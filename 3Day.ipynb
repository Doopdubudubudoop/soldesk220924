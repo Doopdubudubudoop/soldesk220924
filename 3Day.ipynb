{
 "cells": [
  {
   "cell_type": "code",
   "execution_count": 1,
   "id": "5f00f633",
   "metadata": {},
   "outputs": [
    {
     "name": "stderr",
     "output_type": "stream",
     "text": [
      "C:\\Users\\soldesk\\AppData\\Local\\Temp\\ipykernel_8388\\1014303460.py:1: DeprecationWarning: Importing display from IPython.core.display is deprecated since IPython 7.14, please import from IPython display\n",
      "  from IPython.core.display import display, HTML\n"
     ]
    },
    {
     "data": {
      "text/html": [
       "<style>\n",
       "div.container { width:100% !important; }\n",
       "div.CodeMirror {font-family: Consolas; font-size: 30pt;}\n",
       "div.output { font-size: 20pt; font-weight: bold;}\n",
       "div.input { font-family: Consolas; font-size: 30pt;}\n",
       "div.prompt { min-width: 100px;}\n",
       "</style>\n"
      ],
      "text/plain": [
       "<IPython.core.display.HTML object>"
      ]
     },
     "metadata": {},
     "output_type": "display_data"
    }
   ],
   "source": [
    "from IPython.core.display import display, HTML\n",
    "display(HTML(\n",
    "\"\"\"<style>\n",
    "div.container { width:100% !important; }\n",
    "div.CodeMirror {font-family: Consolas; font-size: 30pt;}\n",
    "div.output { font-size: 20pt; font-weight: bold;}\n",
    "div.input { font-family: Consolas; font-size: 30pt;}\n",
    "div.prompt { min-width: 100px;}\n",
    "</style>\n",
    "\"\"\"))"
   ]
  },
  {
   "cell_type": "code",
   "execution_count": 4,
   "id": "56a4dd57",
   "metadata": {},
   "outputs": [
    {
     "name": "stdout",
     "output_type": "stream",
     "text": [
      "2 * 4 = 8\n",
      "2 * 5 = 10\n",
      "2 * 6 = 12\n",
      "2 * 7 = 14\n",
      "2 * 8 = 16\n",
      "3 * 4 = 12\n",
      "3 * 5 = 15\n",
      "3 * 6 = 18\n",
      "3 * 7 = 21\n",
      "3 * 8 = 24\n",
      "4 * 4 = 16\n",
      "4 * 5 = 20\n",
      "4 * 6 = 24\n",
      "4 * 7 = 28\n",
      "4 * 8 = 32\n",
      "2 * 4 = 8\n",
      "2 * 5 = 10\n",
      "2 * 6 = 12\n",
      "2 * 7 = 14\n",
      "2 * 8 = 16\n",
      "3 * 4 = 12\n",
      "3 * 5 = 15\n",
      "3 * 6 = 18\n",
      "3 * 7 = 21\n",
      "3 * 8 = 24\n",
      "4 * 4 = 16\n",
      "4 * 5 = 20\n",
      "4 * 6 = 24\n",
      "4 * 7 = 28\n",
      "4 * 8 = 32\n"
     ]
    }
   ],
   "source": [
    "# 2단부터 4단까지 , 곱은 4곱부터 8곱까지만 출력하시오\n",
    "# 2단\n",
    "gop = 4\n",
    "while gop <= 8:\n",
    "    print(f\"2 * {gop} = {2 * gop}\")\n",
    "    gop+=1\n",
    "    \n",
    "# 3단\n",
    "gop = 4\n",
    "while gop <= 8:\n",
    "    print(f\"3 * {gop} = {3 * gop}\")\n",
    "    gop+=1\n",
    "    \n",
    "# 4단\n",
    "gop = 4\n",
    "while gop <= 8:\n",
    "    print(f\"4 * {gop} = {4 * gop}\")\n",
    "    gop+=1\n",
    "    \n",
    "dan = 2\n",
    "while dan <= 4:\n",
    "    gop = 4\n",
    "    while gop <= 8:\n",
    "        print(f\"{dan} * {gop} = {dan * gop}\")\n",
    "        gop+=1\n",
    "    dan += 1"
   ]
  },
  {
   "cell_type": "code",
   "execution_count": 6,
   "id": "68bf6b5f",
   "metadata": {},
   "outputs": [
    {
     "name": "stdout",
     "output_type": "stream",
     "text": [
      "시작단을 입력하세요 : 2\n",
      "마지막 단을 입력하세요 : 4\n",
      "시작 곱을 입력해주세요 : 4\n",
      "마지막 곱을 입력해주세요 : 8\n",
      "2 * 4 = 8\n",
      "2 * 5 = 10\n",
      "2 * 6 = 12\n",
      "2 * 7 = 14\n",
      "2 * 8 = 16\n",
      "3 * 4 = 12\n",
      "3 * 5 = 15\n",
      "3 * 6 = 18\n",
      "3 * 7 = 21\n",
      "3 * 8 = 24\n",
      "4 * 4 = 16\n",
      "4 * 5 = 20\n",
      "4 * 6 = 24\n",
      "4 * 7 = 28\n",
      "4 * 8 = 32\n"
     ]
    }
   ],
   "source": [
    "startDan = int(input(\"시작단을 입력하세요 : \"))\n",
    "endDan = int(input(\"마지막 단을 입력하세요 : \"))\n",
    "startGop = int(input(\"시작 곱을 입력해주세요 : \"))\n",
    "endGop = int(input(\"마지막 곱을 입력해주세요 : \"))\n",
    "dan = startDan\n",
    "while dan <= endDan:\n",
    "    gop = startGop\n",
    "    while gop <= endGop:\n",
    "        print(f\"{dan} * {gop} = {dan * gop}\")\n",
    "        gop+=1\n",
    "    dan += 1"
   ]
  },
  {
   "cell_type": "code",
   "execution_count": 14,
   "id": "46d6c9f2",
   "metadata": {},
   "outputs": [
    {
     "name": "stdout",
     "output_type": "stream",
     "text": [
      "25, 29, 1, 45, 23, 12, "
     ]
    }
   ],
   "source": [
    "# 로또\n",
    "import random\n",
    "lotto = []\n",
    "i = 1\n",
    "while i <= 45:\n",
    "    lotto.append(i)\n",
    "    i+=1\n",
    "# lotto = [1~45]\n",
    "lottosize = len(lotto) # 45\n",
    "j = 1\n",
    "while j <= 6:\n",
    "    lottosize -= 1\n",
    "    idx = random.randint(0, lottosize) \n",
    "    # 0 ~ 44, 0 ~ 43, 0 ~ 42, 0 ~ 41, 0 ~ 40\n",
    "    lottoNum = lotto.pop(idx)\n",
    "    print(lottoNum, end =\", \")\n",
    "    j += 1"
   ]
  },
  {
   "cell_type": "code",
   "execution_count": 57,
   "id": "bc3e9ed1",
   "metadata": {},
   "outputs": [
    {
     "name": "stdout",
     "output_type": "stream",
     "text": [
      "18, 35, 40, 24, 38, 25, "
     ]
    }
   ],
   "source": [
    "import random\n",
    "lotto = []\n",
    "qty = int(input(\"원하는 수를 입력하세요. : \"))\n",
    "cnt = 1\n",
    "while cnt <= qty:\n",
    "    i = 1\n",
    "    while i <= 45:\n",
    "        lotto.append(i) \n",
    "        i+=1\n",
    "    # print(lotto) # 1~45\n",
    "    \n",
    "    lottosize = len(lotto) # 45\n",
    "    j = 1\n",
    "    while j <= 6:\n",
    "        lottosize -= 1\n",
    "        idx = random.randint(0, lottosize) \n",
    "        # 0 ~ 44, 0 ~ 43, 0 ~ 42, 0 ~ 41, 0 ~ 40\n",
    "        lottoNum = lotto.pop(idx)\n",
    "        print(lottoNum, end =\", \")\n",
    "        j += 1\n",
    "    cnt += 1\n",
    "    lotto.clear()\n",
    "    print()\n",
    "    "
   ]
  },
  {
   "cell_type": "code",
   "execution_count": 62,
   "id": "bc30cd7a",
   "metadata": {},
   "outputs": [
    {
     "name": "stdout",
     "output_type": "stream",
     "text": [
      "원하는 수를 적으시오 : 3\n",
      "19, 20, 6, 42, 35, 28, \n",
      "25, 35, 6, 18, 13, 45, \n",
      "12, 45, 39, 15, 5, 9, \n"
     ]
    }
   ],
   "source": [
    "import random\n",
    "qty = int(input(\"원하는 수를 적으시오 : \"))\n",
    "cnt = 1\n",
    "while cnt <= qty:\n",
    "    lotto = []\n",
    "    i = 1\n",
    "    while i <= 45:\n",
    "        lotto.append(i)\n",
    "        i+=1\n",
    "    lottosize = len(lotto) # 45\n",
    "    j = 1\n",
    "    while j <= 6:\n",
    "        lottosize -= 1\n",
    "        idx = random.randint(0, lottosize) \n",
    "        lottoNum = lotto.pop(idx)\n",
    "        print(lottoNum, end =\", \")\n",
    "        j += 1\n",
    "    cnt += 1\n",
    "    print()"
   ]
  },
  {
   "cell_type": "code",
   "execution_count": 64,
   "id": "642e111c",
   "metadata": {},
   "outputs": [
    {
     "name": "stdout",
     "output_type": "stream",
     "text": [
      "5050\n"
     ]
    }
   ],
   "source": [
    "### 1 ~ 10까지의 합을 구하시오.\n",
    "'''\n",
    "i = 1\n",
    "sum = 0\n",
    "sum = sum + 1\n",
    "sum = sum + 2\n",
    "sum = sum + 3\n",
    "sum = sum + 4\n",
    "...\n",
    "sum = sum + 10\n",
    "'''\n",
    "i = 1\n",
    "sum = 0\n",
    "while i <= 100:\n",
    "    sum = sum + i\n",
    "    i += 1\n",
    "print(sum)"
   ]
  },
  {
   "cell_type": "code",
   "execution_count": 66,
   "id": "d45279ae",
   "metadata": {},
   "outputs": [
    {
     "name": "stdout",
     "output_type": "stream",
     "text": [
      "5050\n"
     ]
    }
   ],
   "source": [
    "i = 1\n",
    "sum = 0\n",
    "while True:\n",
    "    if i > 100:\n",
    "        break ## 반복문을 강제 종료\n",
    "    sum += i\n",
    "    i += 1\n",
    "print(sum)"
   ]
  },
  {
   "cell_type": "code",
   "execution_count": 68,
   "id": "c26fe55d",
   "metadata": {},
   "outputs": [
    {
     "name": "stdout",
     "output_type": "stream",
     "text": [
      "2\n",
      "4\n",
      "6\n",
      "8\n",
      "10\n",
      "12\n",
      "14\n",
      "16\n",
      "18\n",
      "20\n"
     ]
    }
   ],
   "source": [
    "# 1 ~ 20중 짝수만 출력하시오,\n",
    "'''\n",
    "print(2)\n",
    "print(4)\n",
    "print(6)\n",
    "...\n",
    "print(20)\n",
    "'''\n",
    "i = 0\n",
    "while i < 20 :\n",
    "    i += 1\n",
    "    if i % 2 == 1:\n",
    "        continue # while문으로 다시 보내도록 함.\n",
    "    print(i)\n",
    "    "
   ]
  },
  {
   "cell_type": "code",
   "execution_count": 72,
   "id": "f26e4dcb",
   "metadata": {},
   "outputs": [
    {
     "name": "stdout",
     "output_type": "stream",
     "text": [
      "1\n",
      "3\n",
      "5\n",
      "7\n",
      "9\n",
      "11\n",
      "13\n",
      "15\n",
      "17\n",
      "19\n",
      "1\n",
      "3\n",
      "5\n",
      "7\n",
      "9\n",
      "11\n",
      "13\n",
      "15\n",
      "17\n",
      "19\n",
      "1\n",
      "3\n",
      "5\n",
      "7\n",
      "9\n",
      "11\n",
      "13\n",
      "15\n",
      "17\n",
      "19\n"
     ]
    }
   ],
   "source": [
    "# 1 ~ 20중 홀수만 출력하시오,\n",
    "i = 0\n",
    "while i <= 19:\n",
    "    i += 1\n",
    "    if i % 2 == 0:\n",
    "        continue\n",
    "    print(i)\n",
    "\n",
    "i = 0\n",
    "while i <= 19:\n",
    "    i += 1\n",
    "    if i % 2 == 1:\n",
    "        print(i)\n",
    "\n",
    "i = 0\n",
    "while True:\n",
    "    i += 1\n",
    "    if i > 20:\n",
    "        break\n",
    "    if i % 2 == 0:\n",
    "        continue\n",
    "    print(i)\n",
    "### 반복문 : while, for"
   ]
  },
  {
   "cell_type": "code",
   "execution_count": 79,
   "id": "701feea9",
   "metadata": {},
   "outputs": [
    {
     "name": "stdout",
     "output_type": "stream",
     "text": [
      "105\n",
      "105\n",
      "l[0] = 1\n",
      "l[1] = 43\n",
      "l[2] = 5\n",
      "l[3] = 56\n",
      "105\n",
      "105\n"
     ]
    }
   ],
   "source": [
    "# 리스트에 있는 합을 구하시오\n",
    "l = [1, 43, 5, 56]\n",
    "sum = 0\n",
    "sum = sum + l[0]\n",
    "sum = sum + l[1]\n",
    "sum = sum + l[2]\n",
    "sum = sum + l[3]\n",
    "print(sum)\n",
    "sum = 0\n",
    "idx = 0 # index\n",
    "while idx < len(l):\n",
    "    sum += l[idx]\n",
    "    idx += 1\n",
    "print(sum)\n",
    "\n",
    "idx = 0\n",
    "for num in l: # [1, 43, 5, 56]\n",
    "    print(f\"l[{idx}] = {num}\")\n",
    "    idx += 1\n",
    "\n",
    "# 리스트 , 튜플, 딕셔러니\n",
    "sum = 0\n",
    "for num in l:# [1, 43, 5, 56] : 리스트, 튜플, 딕셔너리, 집합\n",
    "    sum += num # index\n",
    "print(sum)\n",
    "\n",
    "### 범위인 경우 \n",
    "sum = 0\n",
    "idx = 0\n",
    "while idx < len(l):\n",
    "    sum += l[idx]\n",
    "    idx += 1\n",
    "print(sum)"
   ]
  },
  {
   "cell_type": "code",
   "execution_count": 80,
   "id": "b4d355b1",
   "metadata": {},
   "outputs": [
    {
     "name": "stdout",
     "output_type": "stream",
     "text": [
      "1\n",
      "2\n",
      "3\n",
      "4\n",
      "1\n",
      "2\n",
      "3\n",
      "4\n",
      "1\n",
      "2\n",
      "3\n",
      "4\n"
     ]
    }
   ],
   "source": [
    "l = [1,2,3,4]\n",
    "print(l[0])\n",
    "print(l[1])\n",
    "print(l[2])\n",
    "print(l[3])\n",
    "idx = 0\n",
    "while idx <= 3:\n",
    "    print(l[idx])\n",
    "    idx += 1\n",
    "\n",
    "for num in l:\n",
    "    print(num)"
   ]
  },
  {
   "cell_type": "code",
   "execution_count": 98,
   "id": "0ee0039f",
   "metadata": {},
   "outputs": [
    {
     "name": "stdout",
     "output_type": "stream",
     "text": [
      "1\n",
      "2\n",
      "3\n",
      "4\n",
      "1\n",
      "2\n",
      "3\n",
      "4\n",
      "============================================================\n",
      "1\n",
      "2\n",
      "3\n",
      "4\n",
      "1\n",
      "2\n",
      "3\n",
      "4\n",
      "1\n",
      "2\n",
      "3\n",
      "4\n"
     ]
    }
   ],
   "source": [
    "t = (1,2,3,4)\n",
    "print(t[0])\n",
    "print(t[1])\n",
    "print(t[2])\n",
    "print(t[3])\n",
    "#print(t)\n",
    "idx = 0\n",
    "while idx <= 3:\n",
    "    print(t[idx])\n",
    "    idx += 1\n",
    "print(\"==\" * 30)\n",
    "print(t[0])\n",
    "print(t[1])\n",
    "print(t[2])\n",
    "print(t[3])\n",
    "idx = 0 \n",
    "while idx <= 3:\n",
    "    print(t[idx])\n",
    "    idx += 1"
   ]
  },
  {
   "cell_type": "code",
   "execution_count": 99,
   "id": "d8bfcf47",
   "metadata": {},
   "outputs": [
    {
     "name": "stdout",
     "output_type": "stream",
     "text": [
      "1\n",
      "2\n",
      "3\n",
      "4\n"
     ]
    }
   ],
   "source": [
    "nn = t[0]\n",
    "print(nn)\n",
    "nn = t[1]\n",
    "print(nn)\n",
    "nn = t[2]\n",
    "print(nn)\n",
    "nn = t[3]\n",
    "print(nn)\n",
    "# 크기 만큼만 반복을 하므로 while처럼 크기를 지정하지 않는다.\n",
    "for nn in t: \n",
    "    print(nn)"
   ]
  },
  {
   "cell_type": "code",
   "execution_count": 101,
   "id": "1312d6da",
   "metadata": {},
   "outputs": [
    {
     "name": "stdout",
     "output_type": "stream",
     "text": [
      "1\n",
      "2\n",
      "3\n",
      "============================================================\n",
      "1\n",
      "2\n",
      "3\n",
      "============================================================\n",
      "1\n",
      "2\n",
      "3\n"
     ]
    }
   ],
   "source": [
    "l = [1,2,3]\n",
    "num = l[0]\n",
    "print(num)\n",
    "num = l[1]\n",
    "print(num)\n",
    "num = l[2]\n",
    "print(num)\n",
    "print(\"==\" * 30)\n",
    "idx = 0\n",
    "while idx <= 2:\n",
    "    num = l[idx]\n",
    "    print(num)\n",
    "    idx+=1\n",
    "\n",
    "print(\"==\" * 30)\n",
    "idx = 0\n",
    "for num in l: #num = l[idx] , #num+=1\n",
    "    #num = l[idx]\n",
    "    print(num)\n",
    "    #num+=1"
   ]
  },
  {
   "cell_type": "code",
   "execution_count": null,
   "id": "1157bc2a",
   "metadata": {},
   "outputs": [],
   "source": [
    "# 1 ~ 100 까지\n",
    "i = 0\n",
    "while i<= 100:\n",
    "    print(i)\n",
    "    i += 1\n",
    "\n",
    "i = 0 \n",
    "l = []\n",
    "while i <= 100:\n",
    "    l.append(i)\n",
    "    i+=1\n",
    "for num in l:\n",
    "    print(num)"
   ]
  },
  {
   "cell_type": "code",
   "execution_count": 6,
   "id": "52cc5f3d",
   "metadata": {},
   "outputs": [
    {
     "name": "stdout",
     "output_type": "stream",
     "text": [
      "123\n",
      "1\n",
      "2\n",
      "3\n",
      "\n",
      "1\n",
      "2\n",
      "3\n",
      "12\n",
      "3\n",
      "4\n",
      "12\n",
      "3\n",
      "4\n",
      "12\n",
      "3\n",
      "4\n"
     ]
    }
   ],
   "source": [
    "t = (1,2,3) # 튜플\n",
    "num = t[0]\n",
    "print(num , end =\"\")\n",
    "num = t[1]\n",
    "print(num, end =\"\")\n",
    "num = t[2]\n",
    "print(num, end =\"\")\n",
    "print()\n",
    "idx = 0\n",
    "while idx <= 2: # 무한반복을 막기 위해 범위값을 지정\n",
    "    num = t[idx]\n",
    "    print(num)\n",
    "    idx += 1\n",
    "print()\n",
    "for num in t: # 크기만큼만 \n",
    "    #num = t[0]\n",
    "    #num = t[1]\n",
    "    #num = t[2]\n",
    "    print(num)\n",
    "    #idx += 1\n",
    "l = [12,3,4]\n",
    "nn = l[0]\n",
    "print(nn)\n",
    "nn = l[1]\n",
    "print(nn)\n",
    "nn = l[2]\n",
    "print(nn)\n",
    "\n",
    "for nn in l:# nn = l[0], # nn = l[1], # nn = l[2]\n",
    "    print(nn)\n",
    "\n",
    "l = [12,3,4]\n",
    "idx = 0\n",
    "while idx <= 2:\n",
    "    aaa = l[idx]\n",
    "    idx += 1\n",
    "    print(aaa)"
   ]
  },
  {
   "cell_type": "code",
   "execution_count": null,
   "id": "d0198268",
   "metadata": {},
   "outputs": [],
   "source": [
    "print(f\" 2 * 1 = {2 * 1}\")\n",
    "print(f\" 2 * 2 = {2 * 2}\")\n",
    "print(f\" 2 * 3 = {2 * 3}\")\n",
    "print(f\" 2 * 4 = {2 * 4}\")\n",
    "print(f\" 2 * 5 = {2 * 5}\")\n",
    "print(f\" 2 * 6 = {2 * 6}\")\n",
    "idx = 1\n",
    "while idx <= 6:\n",
    "    print(f\" 2 * {idx} = {2 * idx}\")\n",
    "    idx += 1\n",
    "\n",
    "l = [1,2,3,4]\n",
    "#    0 1 2 3\n",
    "print(l[0])\n",
    "print(l[1])\n",
    "print(l[2])\n",
    "print(l[3])\n",
    "size = len(l) # 4\n",
    "idx = 0\n",
    "while idx < size:\n",
    "    print(l[idx])\n",
    "    idx+=1\n",
    "\n",
    "for num in l:\n",
    "    print(num)"
   ]
  },
  {
   "cell_type": "code",
   "execution_count": 20,
   "id": "3816c6c3",
   "metadata": {},
   "outputs": [
    {
     "name": "stdout",
     "output_type": "stream",
     "text": [
      "(1, 2)\n",
      "(3, 4)\n",
      "(5, 6)\n",
      "1\n",
      "2\n",
      "1 2\n",
      "3\n",
      "3 4\n",
      "7\n",
      "5 6\n",
      "11\n"
     ]
    }
   ],
   "source": [
    "l1 = [(1,2), (3,4), (5,6)]\n",
    "for t in l1: # t =l1[0] , t =l1[1], t =l1[2]\n",
    "    print(t)\n",
    "\n",
    "(a, b) = (1,2)\n",
    "print(a)\n",
    "print(b)\n",
    "\n",
    "for (a,b) in l1: \n",
    "    print(a, b)\n",
    "    print(a + b)"
   ]
  },
  {
   "cell_type": "code",
   "execution_count": 28,
   "id": "b5494792",
   "metadata": {},
   "outputs": [
    {
     "name": "stdout",
     "output_type": "stream",
     "text": [
      "(1, 2, 3)\n",
      "1 2 3\n",
      "6\n",
      "(3, 4, 5)\n",
      "3 4 5\n",
      "12\n",
      "(5, 6, 7)\n",
      "5 6 7\n",
      "18\n",
      "1 2 3\n",
      "6\n",
      "3 4 5\n",
      "12\n",
      "5 6 7\n",
      "18\n"
     ]
    }
   ],
   "source": [
    "l1 = [(1,2,3),(3,4,5),(5,6,7)]\n",
    "for t1 in l1: # t1 = l1[0], t1 = l1[1], t1 = l1[2]\n",
    "    print(t1) # (1, 2, 3)\n",
    "              #  0  1  2\n",
    "    print(t1[0], t1[1], t1[2])\n",
    "    print(t1[0] + t1[1] + t1[2])\n",
    "    \n",
    "for (a,b,c) in l1:\n",
    "    print(a,b,c)\n",
    "    print(a + b + c)"
   ]
  },
  {
   "cell_type": "code",
   "execution_count": 31,
   "id": "e7af91fd",
   "metadata": {},
   "outputs": [
    {
     "name": "stdout",
     "output_type": "stream",
     "text": [
      "1 2 3\n"
     ]
    },
    {
     "ename": "ValueError",
     "evalue": "not enough values to unpack (expected 3, got 2)",
     "output_type": "error",
     "traceback": [
      "\u001b[1;31m---------------------------------------------------------------------------\u001b[0m",
      "\u001b[1;31mValueError\u001b[0m                                Traceback (most recent call last)",
      "Cell \u001b[1;32mIn [31], line 2\u001b[0m\n\u001b[0;32m      1\u001b[0m l1 \u001b[38;5;241m=\u001b[39m [(\u001b[38;5;241m1\u001b[39m,\u001b[38;5;241m2\u001b[39m,\u001b[38;5;241m3\u001b[39m),(\u001b[38;5;241m4\u001b[39m,\u001b[38;5;241m5\u001b[39m),(\u001b[38;5;241m5\u001b[39m,\u001b[38;5;241m6\u001b[39m,\u001b[38;5;241m7\u001b[39m)]\n\u001b[1;32m----> 2\u001b[0m \u001b[38;5;28;01mfor\u001b[39;00m (a,b,c) \u001b[38;5;129;01min\u001b[39;00m l1:\n\u001b[0;32m      3\u001b[0m     \u001b[38;5;28mprint\u001b[39m(a,b,c)\n",
      "\u001b[1;31mValueError\u001b[0m: not enough values to unpack (expected 3, got 2)"
     ]
    }
   ],
   "source": [
    "l1 = [(1,2,3),(4,5),(5,6,7)]\n",
    "for (a,b,c) in l1:\n",
    "    print(a,b,c)"
   ]
  },
  {
   "cell_type": "code",
   "execution_count": 33,
   "id": "8ece2160",
   "metadata": {},
   "outputs": [
    {
     "name": "stdout",
     "output_type": "stream",
     "text": [
      "5050\n",
      "5050\n"
     ]
    }
   ],
   "source": [
    "# 1 ~ 100 까지을 구해서 출력하세요.\n",
    "i = 1\n",
    "sum = 0\n",
    "while i <= 100: \n",
    "    sum += i\n",
    "    i += 1\n",
    "print(sum)\n",
    "\n",
    "sum = 0\n",
    "for num in range(1, 1 + 100):\n",
    "    sum += num\n",
    "print(sum)"
   ]
  },
  {
   "cell_type": "code",
   "execution_count": 36,
   "id": "4446e14d",
   "metadata": {},
   "outputs": [
    {
     "name": "stdout",
     "output_type": "stream",
     "text": [
      "3 * 1 = 3\n",
      "3 * 2 = 6\n",
      "3 * 3 = 9\n",
      "3 * 4 = 12\n",
      "3 * 5 = 15\n",
      "3 * 6 = 18\n",
      "3 * 7 = 21\n",
      "3 * 8 = 24\n",
      "3 * 9 = 27\n",
      "3 * 1 = 3\n",
      "3 * 2 = 6\n",
      "3 * 3 = 9\n",
      "3 * 4 = 12\n",
      "3 * 5 = 15\n",
      "3 * 6 = 18\n",
      "3 * 7 = 21\n",
      "3 * 8 = 24\n",
      "3 * 9 = 27\n",
      "3 * 1 = 3\n",
      "3 * 3 = 9\n",
      "3 * 5 = 15\n",
      "3 * 7 = 21\n",
      "3 * 9 = 27\n"
     ]
    }
   ],
   "source": [
    "# 3단\n",
    "for gop in range(1, 1 + 9):\n",
    "    print(f\"3 * {gop} = {3 * gop}\")\n",
    "\n",
    "gop = 1\n",
    "while gop <= 9:\n",
    "    print(f\"3 * {gop} = {3 * gop}\")\n",
    "    gop += 1\n",
    "\n",
    "gop = 0\n",
    "while True:\n",
    "    gop+=1\n",
    "    if gop > 10:\n",
    "        break\n",
    "    print(f\"3 * {gop} = {3 * gop}\")\n",
    "    gop += 1"
   ]
  },
  {
   "cell_type": "code",
   "execution_count": 40,
   "id": "c45e5f41",
   "metadata": {},
   "outputs": [
    {
     "name": "stdout",
     "output_type": "stream",
     "text": [
      "이\n",
      "숭\n",
      "무\n",
      "이\n",
      "숭\n",
      "무\n"
     ]
    }
   ],
   "source": [
    "dic = {1 : \"이\", 2:\"숭\", 3: \"무\"}\n",
    "for key in dic.keys():\n",
    "    print(dic[key])\n",
    "\n",
    "for value in dic.values():\n",
    "    print(value)"
   ]
  },
  {
   "cell_type": "code",
   "execution_count": 43,
   "id": "9eccad25",
   "metadata": {},
   "outputs": [
    {
     "name": "stdout",
     "output_type": "stream",
     "text": [
      "3 * 1 = 3\n",
      "3 * 2 = 6\n",
      "3 * 3 = 9\n",
      "3 * 4 = 12\n",
      "3 * 5 = 15\n",
      "3 * 6 = 18\n",
      "3 * 7 = 21\n",
      "3 * 8 = 24\n",
      "3 * 9 = 27\n",
      "4 * 1 = 4\n",
      "4 * 2 = 8\n",
      "4 * 3 = 12\n",
      "4 * 4 = 16\n",
      "4 * 5 = 20\n",
      "4 * 6 = 24\n",
      "4 * 7 = 28\n",
      "4 * 8 = 32\n",
      "4 * 9 = 36\n",
      "5 * 1 = 5\n",
      "5 * 2 = 10\n",
      "5 * 3 = 15\n",
      "5 * 4 = 20\n",
      "5 * 5 = 25\n",
      "5 * 6 = 30\n",
      "5 * 7 = 35\n",
      "5 * 8 = 40\n",
      "5 * 9 = 45\n",
      "5 * 1 = 5\n",
      "5 * 2 = 10\n",
      "5 * 3 = 15\n",
      "5 * 4 = 20\n",
      "5 * 5 = 25\n",
      "5 * 6 = 30\n",
      "5 * 7 = 35\n",
      "5 * 8 = 40\n",
      "5 * 9 = 45\n",
      "5 * 1 = 5\n",
      "5 * 2 = 10\n",
      "5 * 3 = 15\n",
      "5 * 4 = 20\n",
      "5 * 5 = 25\n",
      "5 * 6 = 30\n",
      "5 * 7 = 35\n",
      "5 * 8 = 40\n",
      "5 * 9 = 45\n",
      "5 * 1 = 5\n",
      "5 * 2 = 10\n",
      "5 * 3 = 15\n",
      "5 * 4 = 20\n",
      "5 * 5 = 25\n",
      "5 * 6 = 30\n",
      "5 * 7 = 35\n",
      "5 * 8 = 40\n",
      "5 * 9 = 45\n",
      "5 * 1 = 5\n",
      "5 * 2 = 10\n",
      "5 * 3 = 15\n",
      "5 * 4 = 20\n",
      "5 * 5 = 25\n",
      "5 * 6 = 30\n",
      "5 * 7 = 35\n",
      "5 * 8 = 40\n",
      "5 * 9 = 45\n",
      "5 * 1 = 5\n",
      "5 * 2 = 10\n",
      "5 * 3 = 15\n",
      "5 * 4 = 20\n",
      "5 * 5 = 25\n",
      "5 * 6 = 30\n",
      "5 * 7 = 35\n",
      "5 * 8 = 40\n",
      "5 * 9 = 45\n",
      "5 * 1 = 5\n",
      "5 * 2 = 10\n",
      "5 * 3 = 15\n",
      "5 * 4 = 20\n",
      "5 * 5 = 25\n",
      "5 * 6 = 30\n",
      "5 * 7 = 35\n",
      "5 * 8 = 40\n",
      "5 * 9 = 45\n"
     ]
    }
   ],
   "source": [
    "#3단\n",
    "for gop in range(1, 1 + 9):\n",
    "    print(f\"3 * {gop} = {3 * gop}\")\n",
    "#4단\n",
    "for gop in range(1, 1 + 9):\n",
    "    print(f\"4 * {gop} = {4 * gop}\")\n",
    "#5단\n",
    "for gop in range(1, 1 + 9):\n",
    "    print(f\"5 * {gop} = {5 * gop}\")\n",
    "\n",
    "dan = 3\n",
    "while dan <= 5:\n",
    "    for gop in range(1, 1 + 9):\n",
    "        print(f\"5 * {gop} = {5 * gop}\")\n",
    "    dan += 1    \n",
    "    \n",
    "for dan in range(3, 3 + 3):\n",
    "    for gop in range(1, 1 + 9):\n",
    "        print(f\"5 * {gop} = {5 * gop}\")"
   ]
  },
  {
   "cell_type": "code",
   "execution_count": 46,
   "id": "250cba37",
   "metadata": {},
   "outputs": [
    {
     "name": "stdout",
     "output_type": "stream",
     "text": [
      "시작단을 입력해주세요 : 2\n",
      "끝단을 입력해주세요 : 4\n",
      "시작곱을 입력해주세요 : 3\n",
      "끝곱을 입력해주세요 : 6\n",
      "2 * 3 = 6\n",
      "2 * 4 = 8\n",
      "2 * 5 = 10\n",
      "2 * 6 = 12\n",
      "3 * 3 = 9\n",
      "3 * 4 = 12\n",
      "3 * 5 = 15\n",
      "3 * 6 = 18\n",
      "4 * 3 = 12\n",
      "4 * 4 = 16\n",
      "4 * 5 = 20\n",
      "4 * 6 = 24\n"
     ]
    }
   ],
   "source": [
    "startDan = int(input(\"시작단을 입력해주세요 : \"))\n",
    "endDan = int(input(\"끝단을 입력해주세요 : \"))\n",
    "startGop = int(input(\"시작곱을 입력해주세요 : \"))\n",
    "endGop = int(input(\"끝곱을 입력해주세요 : \"))\n",
    "for dan in range(startDan, endDan + 1):\n",
    "    for gop in range(startGop, endGop + 1):\n",
    "        print(f\"{dan} * {gop} = {dan * gop}\")"
   ]
  },
  {
   "cell_type": "code",
   "execution_count": null,
   "id": "0b8d3129",
   "metadata": {},
   "outputs": [],
   "source": []
  },
  {
   "cell_type": "code",
   "execution_count": null,
   "id": "de1bde48",
   "metadata": {},
   "outputs": [],
   "source": []
  },
  {
   "cell_type": "code",
   "execution_count": null,
   "id": "315586ce",
   "metadata": {},
   "outputs": [],
   "source": []
  },
  {
   "cell_type": "code",
   "execution_count": null,
   "id": "9b44427f",
   "metadata": {},
   "outputs": [],
   "source": []
  },
  {
   "cell_type": "code",
   "execution_count": null,
   "id": "277868cd",
   "metadata": {},
   "outputs": [],
   "source": []
  }
 ],
 "metadata": {
  "kernelspec": {
   "display_name": "Python 3",
   "language": "python",
   "name": "python3"
  },
  "language_info": {
   "codemirror_mode": {
    "name": "ipython",
    "version": 3
   },
   "file_extension": ".py",
   "mimetype": "text/x-python",
   "name": "python",
   "nbconvert_exporter": "python",
   "pygments_lexer": "ipython3",
   "version": "3.8.6"
  }
 },
 "nbformat": 4,
 "nbformat_minor": 5
}
