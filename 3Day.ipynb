{
 "cells": [
  {
   "cell_type": "code",
   "execution_count": 1,
   "id": "1f8751a5",
   "metadata": {},
   "outputs": [
    {
     "name": "stderr",
     "output_type": "stream",
     "text": [
      "C:\\Users\\soldesk\\AppData\\Local\\Temp\\ipykernel_8388\\1014303460.py:1: DeprecationWarning: Importing display from IPython.core.display is deprecated since IPython 7.14, please import from IPython display\n",
      "  from IPython.core.display import display, HTML\n"
     ]
    },
    {
     "data": {
      "text/html": [
       "<style>\n",
       "div.container { width:100% !important; }\n",
       "div.CodeMirror {font-family: Consolas; font-size: 30pt;}\n",
       "div.output { font-size: 20pt; font-weight: bold;}\n",
       "div.input { font-family: Consolas; font-size: 30pt;}\n",
       "div.prompt { min-width: 100px;}\n",
       "</style>\n"
      ],
      "text/plain": [
       "<IPython.core.display.HTML object>"
      ]
     },
     "metadata": {},
     "output_type": "display_data"
    }
   ],
   "source": [
    "from IPython.core.display import display, HTML\n",
    "display(HTML(\n",
    "\"\"\"<style>\n",
    "div.container { width:100% !important; }\n",
    "div.CodeMirror {font-family: Consolas; font-size: 30pt;}\n",
    "div.output { font-size: 20pt; font-weight: bold;}\n",
    "div.input { font-family: Consolas; font-size: 30pt;}\n",
    "div.prompt { min-width: 100px;}\n",
    "</style>\n",
    "\"\"\"))"
   ]
  },
  {
   "cell_type": "code",
   "execution_count": 4,
   "id": "df32cd7b",
   "metadata": {},
   "outputs": [
    {
     "name": "stdout",
     "output_type": "stream",
     "text": [
      "2 * 4 = 8\n",
      "2 * 5 = 10\n",
      "2 * 6 = 12\n",
      "2 * 7 = 14\n",
      "2 * 8 = 16\n",
      "3 * 4 = 12\n",
      "3 * 5 = 15\n",
      "3 * 6 = 18\n",
      "3 * 7 = 21\n",
      "3 * 8 = 24\n",
      "4 * 4 = 16\n",
      "4 * 5 = 20\n",
      "4 * 6 = 24\n",
      "4 * 7 = 28\n",
      "4 * 8 = 32\n",
      "2 * 4 = 8\n",
      "2 * 5 = 10\n",
      "2 * 6 = 12\n",
      "2 * 7 = 14\n",
      "2 * 8 = 16\n",
      "3 * 4 = 12\n",
      "3 * 5 = 15\n",
      "3 * 6 = 18\n",
      "3 * 7 = 21\n",
      "3 * 8 = 24\n",
      "4 * 4 = 16\n",
      "4 * 5 = 20\n",
      "4 * 6 = 24\n",
      "4 * 7 = 28\n",
      "4 * 8 = 32\n"
     ]
    }
   ],
   "source": [
    "# 2단부터 4단까지 , 곱은 4곱부터 8곱까지만 출력하시오\n",
    "# 2단\n",
    "gop = 4\n",
    "while gop <= 8:\n",
    "    print(f\"2 * {gop} = {2 * gop}\")\n",
    "    gop+=1\n",
    "    \n",
    "# 3단\n",
    "gop = 4\n",
    "while gop <= 8:\n",
    "    print(f\"3 * {gop} = {3 * gop}\")\n",
    "    gop+=1\n",
    "    \n",
    "# 4단\n",
    "gop = 4\n",
    "while gop <= 8:\n",
    "    print(f\"4 * {gop} = {4 * gop}\")\n",
    "    gop+=1\n",
    "    \n",
    "dan = 2\n",
    "while dan <= 4:\n",
    "    gop = 4\n",
    "    while gop <= 8:\n",
    "        print(f\"{dan} * {gop} = {dan * gop}\")\n",
    "        gop+=1\n",
    "    dan += 1"
   ]
  },
  {
   "cell_type": "code",
   "execution_count": 6,
   "id": "3d2f504d",
   "metadata": {},
   "outputs": [
    {
     "name": "stdout",
     "output_type": "stream",
     "text": [
      "시작단을 입력하세요 : 2\n",
      "마지막 단을 입력하세요 : 4\n",
      "시작 곱을 입력해주세요 : 4\n",
      "마지막 곱을 입력해주세요 : 8\n",
      "2 * 4 = 8\n",
      "2 * 5 = 10\n",
      "2 * 6 = 12\n",
      "2 * 7 = 14\n",
      "2 * 8 = 16\n",
      "3 * 4 = 12\n",
      "3 * 5 = 15\n",
      "3 * 6 = 18\n",
      "3 * 7 = 21\n",
      "3 * 8 = 24\n",
      "4 * 4 = 16\n",
      "4 * 5 = 20\n",
      "4 * 6 = 24\n",
      "4 * 7 = 28\n",
      "4 * 8 = 32\n"
     ]
    }
   ],
   "source": [
    "startDan = int(input(\"시작단을 입력하세요 : \"))\n",
    "endDan = int(input(\"마지막 단을 입력하세요 : \"))\n",
    "startGop = int(input(\"시작 곱을 입력해주세요 : \"))\n",
    "endGop = int(input(\"마지막 곱을 입력해주세요 : \"))\n",
    "dan = startDan\n",
    "while dan <= endDan:\n",
    "    gop = startGop\n",
    "    while gop <= endGop:\n",
    "        print(f\"{dan} * {gop} = {dan * gop}\")\n",
    "        gop+=1\n",
    "    dan += 1"
   ]
  },
  {
   "cell_type": "code",
   "execution_count": 14,
   "id": "bbb6ed69",
   "metadata": {},
   "outputs": [
    {
     "name": "stdout",
     "output_type": "stream",
     "text": [
      "25, 29, 1, 45, 23, 12, "
     ]
    }
   ],
   "source": [
    "# 로또\n",
    "import random\n",
    "lotto = []\n",
    "i = 1\n",
    "while i <= 45:\n",
    "    lotto.append(i)\n",
    "    i+=1\n",
    "# lotto = [1~45]\n",
    "lottosize = len(lotto) # 45\n",
    "j = 1\n",
    "while j <= 6:\n",
    "    lottosize -= 1\n",
    "    idx = random.randint(0, lottosize) \n",
    "    # 0 ~ 44, 0 ~ 43, 0 ~ 42, 0 ~ 41, 0 ~ 40\n",
    "    lottoNum = lotto.pop(idx)\n",
    "    print(lottoNum, end =\", \")\n",
    "    j += 1"
   ]
  },
  {
   "cell_type": "code",
   "execution_count": 57,
   "id": "9485b241",
   "metadata": {},
   "outputs": [
    {
     "name": "stdout",
     "output_type": "stream",
     "text": [
      "18, 35, 40, 24, 38, 25, "
     ]
    }
   ],
   "source": [
    "import random\n",
    "lotto = []\n",
    "qty = int(input(\"원하는 수를 입력하세요. : \"))\n",
    "cnt = 1\n",
    "while cnt <= qty:\n",
    "    i = 1\n",
    "    while i <= 45:\n",
    "        lotto.append(i) \n",
    "        i+=1\n",
    "    # print(lotto) # 1~45\n",
    "    \n",
    "    lottosize = len(lotto) # 45\n",
    "    j = 1\n",
    "    while j <= 6:\n",
    "        lottosize -= 1\n",
    "        idx = random.randint(0, lottosize) \n",
    "        # 0 ~ 44, 0 ~ 43, 0 ~ 42, 0 ~ 41, 0 ~ 40\n",
    "        lottoNum = lotto.pop(idx)\n",
    "        print(lottoNum, end =\", \")\n",
    "        j += 1\n",
    "    cnt += 1\n",
    "    lotto.clear()\n",
    "    print()\n",
    "    "
   ]
  },
  {
   "cell_type": "code",
   "execution_count": 62,
   "id": "932cc9ac",
   "metadata": {},
   "outputs": [
    {
     "name": "stdout",
     "output_type": "stream",
     "text": [
      "원하는 수를 적으시오 : 3\n",
      "19, 20, 6, 42, 35, 28, \n",
      "25, 35, 6, 18, 13, 45, \n",
      "12, 45, 39, 15, 5, 9, \n"
     ]
    }
   ],
   "source": [
    "import random\n",
    "qty = int(input(\"원하는 수를 적으시오 : \"))\n",
    "cnt = 1\n",
    "while cnt <= qty:\n",
    "    lotto = []\n",
    "    i = 1\n",
    "    while i <= 45:\n",
    "        lotto.append(i)\n",
    "        i+=1\n",
    "    lottosize = len(lotto) # 45\n",
    "    j = 1\n",
    "    while j <= 6:\n",
    "        lottosize -= 1\n",
    "        idx = random.randint(0, lottosize) \n",
    "        lottoNum = lotto.pop(idx)\n",
    "        print(lottoNum, end =\", \")\n",
    "        j += 1\n",
    "    cnt += 1\n",
    "    print()"
   ]
  },
  {
   "cell_type": "code",
   "execution_count": 64,
   "id": "6926a429",
   "metadata": {},
   "outputs": [
    {
     "name": "stdout",
     "output_type": "stream",
     "text": [
      "5050\n"
     ]
    }
   ],
   "source": [
    "### 1 ~ 10까지의 합을 구하시오.\n",
    "'''\n",
    "i = 1\n",
    "sum = 0\n",
    "sum = sum + 1\n",
    "sum = sum + 2\n",
    "sum = sum + 3\n",
    "sum = sum + 4\n",
    "...\n",
    "sum = sum + 10\n",
    "'''\n",
    "i = 1\n",
    "sum = 0\n",
    "while i <= 100:\n",
    "    sum = sum + i\n",
    "    i += 1\n",
    "print(sum)"
   ]
  },
  {
   "cell_type": "code",
   "execution_count": 66,
   "id": "e8578c20",
   "metadata": {},
   "outputs": [
    {
     "name": "stdout",
     "output_type": "stream",
     "text": [
      "5050\n"
     ]
    }
   ],
   "source": [
    "i = 1\n",
    "sum = 0\n",
    "while True:\n",
    "    if i > 100:\n",
    "        break ## 반복문을 강제 종료\n",
    "    sum += i\n",
    "    i += 1\n",
    "print(sum)"
   ]
  },
  {
   "cell_type": "code",
   "execution_count": 68,
   "id": "51ce678f",
   "metadata": {},
   "outputs": [
    {
     "name": "stdout",
     "output_type": "stream",
     "text": [
      "2\n",
      "4\n",
      "6\n",
      "8\n",
      "10\n",
      "12\n",
      "14\n",
      "16\n",
      "18\n",
      "20\n"
     ]
    }
   ],
   "source": [
    "# 1 ~ 20중 짝수만 출력하시오,\n",
    "'''\n",
    "print(2)\n",
    "print(4)\n",
    "print(6)\n",
    "...\n",
    "print(20)\n",
    "'''\n",
    "i = 0\n",
    "while i < 20 :\n",
    "    i += 1\n",
    "    if i % 2 == 1:\n",
    "        continue # while문으로 다시 보내도록 함.\n",
    "    print(i)\n",
    "    "
   ]
  },
  {
   "cell_type": "code",
   "execution_count": 72,
   "id": "ad64afe8",
   "metadata": {},
   "outputs": [
    {
     "name": "stdout",
     "output_type": "stream",
     "text": [
      "1\n",
      "3\n",
      "5\n",
      "7\n",
      "9\n",
      "11\n",
      "13\n",
      "15\n",
      "17\n",
      "19\n",
      "1\n",
      "3\n",
      "5\n",
      "7\n",
      "9\n",
      "11\n",
      "13\n",
      "15\n",
      "17\n",
      "19\n",
      "1\n",
      "3\n",
      "5\n",
      "7\n",
      "9\n",
      "11\n",
      "13\n",
      "15\n",
      "17\n",
      "19\n"
     ]
    }
   ],
   "source": [
    "# 1 ~ 20중 홀수만 출력하시오,\n",
    "i = 0\n",
    "while i <= 19:\n",
    "    i += 1\n",
    "    if i % 2 == 0:\n",
    "        continue\n",
    "    print(i)\n",
    "\n",
    "i = 0\n",
    "while i <= 19:\n",
    "    i += 1\n",
    "    if i % 2 == 1:\n",
    "        print(i)\n",
    "\n",
    "i = 0\n",
    "while True:\n",
    "    i += 1\n",
    "    if i > 20:\n",
    "        break\n",
    "    if i % 2 == 0:\n",
    "        continue\n",
    "    print(i)\n",
    "### 반복문 : while, for"
   ]
  },
  {
   "cell_type": "code",
   "execution_count": 79,
   "id": "504e1233",
   "metadata": {},
   "outputs": [
    {
     "name": "stdout",
     "output_type": "stream",
     "text": [
      "105\n",
      "105\n",
      "l[0] = 1\n",
      "l[1] = 43\n",
      "l[2] = 5\n",
      "l[3] = 56\n",
      "105\n",
      "105\n"
     ]
    }
   ],
   "source": [
    "# 리스트에 있는 합을 구하시오\n",
    "l = [1, 43, 5, 56]\n",
    "sum = 0\n",
    "sum = sum + l[0]\n",
    "sum = sum + l[1]\n",
    "sum = sum + l[2]\n",
    "sum = sum + l[3]\n",
    "print(sum)\n",
    "sum = 0\n",
    "idx = 0 # index\n",
    "while idx < len(l):\n",
    "    sum += l[idx]\n",
    "    idx += 1\n",
    "print(sum)\n",
    "\n",
    "idx = 0\n",
    "for num in l: # [1, 43, 5, 56]\n",
    "    print(f\"l[{idx}] = {num}\")\n",
    "    idx += 1\n",
    "\n",
    "# 리스트 , 튜플, 딕셔러니\n",
    "sum = 0\n",
    "for num in l:# [1, 43, 5, 56] : 리스트, 튜플, 딕셔너리, 집합\n",
    "    sum += num # index\n",
    "print(sum)\n",
    "\n",
    "### 범위인 경우 \n",
    "sum = 0\n",
    "idx = 0\n",
    "while idx < len(l):\n",
    "    sum += l[idx]\n",
    "    idx += 1\n",
    "print(sum)"
   ]
  },
  {
   "cell_type": "code",
   "execution_count": 80,
   "id": "2c825519",
   "metadata": {},
   "outputs": [
    {
     "name": "stdout",
     "output_type": "stream",
     "text": [
      "1\n",
      "2\n",
      "3\n",
      "4\n",
      "1\n",
      "2\n",
      "3\n",
      "4\n",
      "1\n",
      "2\n",
      "3\n",
      "4\n"
     ]
    }
   ],
   "source": [
    "l = [1,2,3,4]\n",
    "print(l[0])\n",
    "print(l[1])\n",
    "print(l[2])\n",
    "print(l[3])\n",
    "idx = 0\n",
    "while idx <= 3:\n",
    "    print(l[idx])\n",
    "    idx += 1\n",
    "\n",
    "for num in l:\n",
    "    print(num)"
   ]
  },
  {
   "cell_type": "code",
   "execution_count": 98,
   "id": "b17857c9",
   "metadata": {},
   "outputs": [
    {
     "name": "stdout",
     "output_type": "stream",
     "text": [
      "1\n",
      "2\n",
      "3\n",
      "4\n",
      "1\n",
      "2\n",
      "3\n",
      "4\n",
      "============================================================\n",
      "1\n",
      "2\n",
      "3\n",
      "4\n",
      "1\n",
      "2\n",
      "3\n",
      "4\n",
      "1\n",
      "2\n",
      "3\n",
      "4\n"
     ]
    }
   ],
   "source": [
    "t = (1,2,3,4)\n",
    "print(t[0])\n",
    "print(t[1])\n",
    "print(t[2])\n",
    "print(t[3])\n",
    "#print(t)\n",
    "idx = 0\n",
    "while idx <= 3:\n",
    "    print(t[idx])\n",
    "    idx += 1\n",
    "print(\"==\" * 30)\n",
    "print(t[0])\n",
    "print(t[1])\n",
    "print(t[2])\n",
    "print(t[3])\n",
    "idx = 0 \n",
    "while idx <= 3:\n",
    "    print(t[idx])\n",
    "    idx += 1"
   ]
  },
  {
   "cell_type": "code",
   "execution_count": 99,
   "id": "9c9eeca4",
   "metadata": {},
   "outputs": [
    {
     "name": "stdout",
     "output_type": "stream",
     "text": [
      "1\n",
      "2\n",
      "3\n",
      "4\n"
     ]
    }
   ],
   "source": [
    "nn = t[0]\n",
    "print(nn)\n",
    "nn = t[1]\n",
    "print(nn)\n",
    "nn = t[2]\n",
    "print(nn)\n",
    "nn = t[3]\n",
    "print(nn)\n",
    "# 크기 만큼만 반복을 하므로 while처럼 크기를 지정하지 않는다.\n",
    "for nn in t: \n",
    "    print(nn)"
   ]
  },
  {
   "cell_type": "code",
   "execution_count": 101,
   "id": "bb853e79",
   "metadata": {},
   "outputs": [
    {
     "name": "stdout",
     "output_type": "stream",
     "text": [
      "1\n",
      "2\n",
      "3\n",
      "============================================================\n",
      "1\n",
      "2\n",
      "3\n",
      "============================================================\n",
      "1\n",
      "2\n",
      "3\n"
     ]
    }
   ],
   "source": [
    "l = [1,2,3]\n",
    "num = l[0]\n",
    "print(num)\n",
    "num = l[1]\n",
    "print(num)\n",
    "num = l[2]\n",
    "print(num)\n",
    "print(\"==\" * 30)\n",
    "idx = 0\n",
    "while idx <= 2:\n",
    "    num = l[idx]\n",
    "    print(num)\n",
    "    idx+=1\n",
    "\n",
    "print(\"==\" * 30)\n",
    "idx = 0\n",
    "for num in l: #num = l[idx] , #num+=1\n",
    "    #num = l[idx]\n",
    "    print(num)\n",
    "    #num+=1"
   ]
  },
  {
   "cell_type": "code",
   "execution_count": null,
   "id": "8ea4d17f",
   "metadata": {},
   "outputs": [],
   "source": [
    "# 1 ~ 100 까지\n",
    "i = 0\n",
    "while i<= 100:\n",
    "    print(i)\n",
    "    i += 1\n",
    "\n",
    "i = 0 \n",
    "l = []\n",
    "while i <= 100:\n",
    "    l.append(i)\n",
    "    i+=1\n",
    "for num in l:\n",
    "    print(num)"
   ]
  },
  {
   "cell_type": "code",
   "execution_count": 6,
   "id": "275ea03f",
   "metadata": {},
   "outputs": [
    {
     "name": "stdout",
     "output_type": "stream",
     "text": [
      "123\n",
      "1\n",
      "2\n",
      "3\n",
      "\n",
      "1\n",
      "2\n",
      "3\n",
      "12\n",
      "3\n",
      "4\n",
      "12\n",
      "3\n",
      "4\n",
      "12\n",
      "3\n",
      "4\n"
     ]
    }
   ],
   "source": [
    "t = (1,2,3) # 튜플\n",
    "num = t[0]\n",
    "print(num , end =\"\")\n",
    "num = t[1]\n",
    "print(num, end =\"\")\n",
    "num = t[2]\n",
    "print(num, end =\"\")\n",
    "print()\n",
    "idx = 0\n",
    "while idx <= 2: # 무한반복을 막기 위해 범위값을 지정\n",
    "    num = t[idx]\n",
    "    print(num)\n",
    "    idx += 1\n",
    "print()\n",
    "for num in t: # 크기만큼만 \n",
    "    #num = t[0]\n",
    "    #num = t[1]\n",
    "    #num = t[2]\n",
    "    print(num)\n",
    "    #idx += 1\n",
    "l = [12,3,4]\n",
    "nn = l[0]\n",
    "print(nn)\n",
    "nn = l[1]\n",
    "print(nn)\n",
    "nn = l[2]\n",
    "print(nn)\n",
    "\n",
    "for nn in l:# nn = l[0], # nn = l[1], # nn = l[2]\n",
    "    print(nn)\n",
    "\n",
    "l = [12,3,4]\n",
    "idx = 0\n",
    "while idx <= 2:\n",
    "    aaa = l[idx]\n",
    "    idx += 1\n",
    "    print(aaa)"
   ]
  },
  {
   "cell_type": "code",
   "execution_count": null,
   "id": "ad14f0fd",
   "metadata": {},
   "outputs": [],
   "source": [
    "print(f\" 2 * 1 = {2 * 1}\")\n",
    "print(f\" 2 * 2 = {2 * 2}\")\n",
    "print(f\" 2 * 3 = {2 * 3}\")\n",
    "print(f\" 2 * 4 = {2 * 4}\")\n",
    "print(f\" 2 * 5 = {2 * 5}\")\n",
    "print(f\" 2 * 6 = {2 * 6}\")\n",
    "idx = 1\n",
    "while idx <= 6:\n",
    "    print(f\" 2 * {idx} = {2 * idx}\")\n",
    "    idx += 1\n",
    "\n",
    "l = [1,2,3,4]\n",
    "#    0 1 2 3\n",
    "print(l[0])\n",
    "print(l[1])\n",
    "print(l[2])\n",
    "print(l[3])\n",
    "size = len(l) # 4\n",
    "idx = 0\n",
    "while idx < size:\n",
    "    print(l[idx])\n",
    "    idx+=1\n",
    "\n",
    "for num in l:\n",
    "    print(num)"
   ]
  },
  {
   "cell_type": "code",
   "execution_count": 20,
   "id": "3838f808",
   "metadata": {},
   "outputs": [
    {
     "name": "stdout",
     "output_type": "stream",
     "text": [
      "(1, 2)\n",
      "(3, 4)\n",
      "(5, 6)\n",
      "1\n",
      "2\n",
      "1 2\n",
      "3\n",
      "3 4\n",
      "7\n",
      "5 6\n",
      "11\n"
     ]
    }
   ],
   "source": [
    "l1 = [(1,2), (3,4), (5,6)]\n",
    "for t in l1: # t =l1[0] , t =l1[1], t =l1[2]\n",
    "    print(t)\n",
    "\n",
    "(a, b) = (1,2)\n",
    "print(a)\n",
    "print(b)\n",
    "\n",
    "for (a,b) in l1: \n",
    "    print(a, b)\n",
    "    print(a + b)"
   ]
  },
  {
   "cell_type": "code",
   "execution_count": 28,
   "id": "3204e5e8",
   "metadata": {},
   "outputs": [
    {
     "name": "stdout",
     "output_type": "stream",
     "text": [
      "(1, 2, 3)\n",
      "1 2 3\n",
      "6\n",
      "(3, 4, 5)\n",
      "3 4 5\n",
      "12\n",
      "(5, 6, 7)\n",
      "5 6 7\n",
      "18\n",
      "1 2 3\n",
      "6\n",
      "3 4 5\n",
      "12\n",
      "5 6 7\n",
      "18\n"
     ]
    }
   ],
   "source": [
    "l1 = [(1,2,3),(3,4,5),(5,6,7)]\n",
    "for t1 in l1: # t1 = l1[0], t1 = l1[1], t1 = l1[2]\n",
    "    print(t1) # (1, 2, 3)\n",
    "              #  0  1  2\n",
    "    print(t1[0], t1[1], t1[2])\n",
    "    print(t1[0] + t1[1] + t1[2])\n",
    "    \n",
    "for (a,b,c) in l1:\n",
    "    print(a,b,c)\n",
    "    print(a + b + c)"
   ]
  },
  {
   "cell_type": "code",
   "execution_count": 31,
   "id": "2a37bcad",
   "metadata": {},
   "outputs": [
    {
     "name": "stdout",
     "output_type": "stream",
     "text": [
      "1 2 3\n"
     ]
    },
    {
     "ename": "ValueError",
     "evalue": "not enough values to unpack (expected 3, got 2)",
     "output_type": "error",
     "traceback": [
      "\u001b[1;31m---------------------------------------------------------------------------\u001b[0m",
      "\u001b[1;31mValueError\u001b[0m                                Traceback (most recent call last)",
      "Cell \u001b[1;32mIn [31], line 2\u001b[0m\n\u001b[0;32m      1\u001b[0m l1 \u001b[38;5;241m=\u001b[39m [(\u001b[38;5;241m1\u001b[39m,\u001b[38;5;241m2\u001b[39m,\u001b[38;5;241m3\u001b[39m),(\u001b[38;5;241m4\u001b[39m,\u001b[38;5;241m5\u001b[39m),(\u001b[38;5;241m5\u001b[39m,\u001b[38;5;241m6\u001b[39m,\u001b[38;5;241m7\u001b[39m)]\n\u001b[1;32m----> 2\u001b[0m \u001b[38;5;28;01mfor\u001b[39;00m (a,b,c) \u001b[38;5;129;01min\u001b[39;00m l1:\n\u001b[0;32m      3\u001b[0m     \u001b[38;5;28mprint\u001b[39m(a,b,c)\n",
      "\u001b[1;31mValueError\u001b[0m: not enough values to unpack (expected 3, got 2)"
     ]
    }
   ],
   "source": [
    "l1 = [(1,2,3),(4,5),(5,6,7)]\n",
    "for (a,b,c) in l1:\n",
    "    print(a,b,c)"
   ]
  },
  {
   "cell_type": "code",
   "execution_count": 33,
   "id": "c6ddf944",
   "metadata": {},
   "outputs": [
    {
     "name": "stdout",
     "output_type": "stream",
     "text": [
      "5050\n",
      "5050\n"
     ]
    }
   ],
   "source": [
    "# 1 ~ 100 까지을 구해서 출력하세요.\n",
    "i = 1\n",
    "sum = 0\n",
    "while i <= 100: \n",
    "    sum += i\n",
    "    i += 1\n",
    "print(sum)\n",
    "\n",
    "sum = 0\n",
    "for num in range(1, 1 + 100):\n",
    "    sum += num\n",
    "print(sum)"
   ]
  },
  {
   "cell_type": "code",
   "execution_count": 36,
   "id": "f13df9e8",
   "metadata": {},
   "outputs": [
    {
     "name": "stdout",
     "output_type": "stream",
     "text": [
      "3 * 1 = 3\n",
      "3 * 2 = 6\n",
      "3 * 3 = 9\n",
      "3 * 4 = 12\n",
      "3 * 5 = 15\n",
      "3 * 6 = 18\n",
      "3 * 7 = 21\n",
      "3 * 8 = 24\n",
      "3 * 9 = 27\n",
      "3 * 1 = 3\n",
      "3 * 2 = 6\n",
      "3 * 3 = 9\n",
      "3 * 4 = 12\n",
      "3 * 5 = 15\n",
      "3 * 6 = 18\n",
      "3 * 7 = 21\n",
      "3 * 8 = 24\n",
      "3 * 9 = 27\n",
      "3 * 1 = 3\n",
      "3 * 3 = 9\n",
      "3 * 5 = 15\n",
      "3 * 7 = 21\n",
      "3 * 9 = 27\n"
     ]
    }
   ],
   "source": [
    "# 3단\n",
    "for gop in range(1, 1 + 9):\n",
    "    print(f\"3 * {gop} = {3 * gop}\")\n",
    "\n",
    "gop = 1\n",
    "while gop <= 9:\n",
    "    print(f\"3 * {gop} = {3 * gop}\")\n",
    "    gop += 1\n",
    "\n",
    "gop = 0\n",
    "while True:\n",
    "    gop+=1\n",
    "    if gop > 10:\n",
    "        break\n",
    "    print(f\"3 * {gop} = {3 * gop}\")\n",
    "    gop += 1"
   ]
  },
  {
   "cell_type": "code",
   "execution_count": 40,
   "id": "a62dfbd2",
   "metadata": {},
   "outputs": [
    {
     "name": "stdout",
     "output_type": "stream",
     "text": [
      "이\n",
      "숭\n",
      "무\n",
      "이\n",
      "숭\n",
      "무\n"
     ]
    }
   ],
   "source": [
    "dic = {1 : \"이\", 2:\"숭\", 3: \"무\"}\n",
    "for key in dic.keys():\n",
    "    print(dic[key])\n",
    "\n",
    "for value in dic.values():\n",
    "    print(value)"
   ]
  },
  {
   "cell_type": "code",
   "execution_count": 43,
   "id": "92f698c0",
   "metadata": {},
   "outputs": [
    {
     "name": "stdout",
     "output_type": "stream",
     "text": [
      "3 * 1 = 3\n",
      "3 * 2 = 6\n",
      "3 * 3 = 9\n",
      "3 * 4 = 12\n",
      "3 * 5 = 15\n",
      "3 * 6 = 18\n",
      "3 * 7 = 21\n",
      "3 * 8 = 24\n",
      "3 * 9 = 27\n",
      "4 * 1 = 4\n",
      "4 * 2 = 8\n",
      "4 * 3 = 12\n",
      "4 * 4 = 16\n",
      "4 * 5 = 20\n",
      "4 * 6 = 24\n",
      "4 * 7 = 28\n",
      "4 * 8 = 32\n",
      "4 * 9 = 36\n",
      "5 * 1 = 5\n",
      "5 * 2 = 10\n",
      "5 * 3 = 15\n",
      "5 * 4 = 20\n",
      "5 * 5 = 25\n",
      "5 * 6 = 30\n",
      "5 * 7 = 35\n",
      "5 * 8 = 40\n",
      "5 * 9 = 45\n",
      "5 * 1 = 5\n",
      "5 * 2 = 10\n",
      "5 * 3 = 15\n",
      "5 * 4 = 20\n",
      "5 * 5 = 25\n",
      "5 * 6 = 30\n",
      "5 * 7 = 35\n",
      "5 * 8 = 40\n",
      "5 * 9 = 45\n",
      "5 * 1 = 5\n",
      "5 * 2 = 10\n",
      "5 * 3 = 15\n",
      "5 * 4 = 20\n",
      "5 * 5 = 25\n",
      "5 * 6 = 30\n",
      "5 * 7 = 35\n",
      "5 * 8 = 40\n",
      "5 * 9 = 45\n",
      "5 * 1 = 5\n",
      "5 * 2 = 10\n",
      "5 * 3 = 15\n",
      "5 * 4 = 20\n",
      "5 * 5 = 25\n",
      "5 * 6 = 30\n",
      "5 * 7 = 35\n",
      "5 * 8 = 40\n",
      "5 * 9 = 45\n",
      "5 * 1 = 5\n",
      "5 * 2 = 10\n",
      "5 * 3 = 15\n",
      "5 * 4 = 20\n",
      "5 * 5 = 25\n",
      "5 * 6 = 30\n",
      "5 * 7 = 35\n",
      "5 * 8 = 40\n",
      "5 * 9 = 45\n",
      "5 * 1 = 5\n",
      "5 * 2 = 10\n",
      "5 * 3 = 15\n",
      "5 * 4 = 20\n",
      "5 * 5 = 25\n",
      "5 * 6 = 30\n",
      "5 * 7 = 35\n",
      "5 * 8 = 40\n",
      "5 * 9 = 45\n",
      "5 * 1 = 5\n",
      "5 * 2 = 10\n",
      "5 * 3 = 15\n",
      "5 * 4 = 20\n",
      "5 * 5 = 25\n",
      "5 * 6 = 30\n",
      "5 * 7 = 35\n",
      "5 * 8 = 40\n",
      "5 * 9 = 45\n"
     ]
    }
   ],
   "source": [
    "#3단\n",
    "for gop in range(1, 1 + 9):\n",
    "    print(f\"3 * {gop} = {3 * gop}\")\n",
    "#4단\n",
    "for gop in range(1, 1 + 9):\n",
    "    print(f\"4 * {gop} = {4 * gop}\")\n",
    "#5단\n",
    "for gop in range(1, 1 + 9):\n",
    "    print(f\"5 * {gop} = {5 * gop}\")\n",
    "\n",
    "dan = 3\n",
    "while dan <= 5:\n",
    "    for gop in range(1, 1 + 9):\n",
    "        print(f\"5 * {gop} = {5 * gop}\")\n",
    "    dan += 1    \n",
    "    \n",
    "for dan in range(3, 3 + 3):\n",
    "    for gop in range(1, 1 + 9):\n",
    "        print(f\"5 * {gop} = {5 * gop}\")"
   ]
  },
  {
   "cell_type": "code",
   "execution_count": 47,
   "id": "d8f8c89a",
   "metadata": {},
   "outputs": [
    {
     "name": "stdout",
     "output_type": "stream",
     "text": [
      "시작단을 입력해주세요 : 3\n",
      "끝단을 입력해주세요 : 5\n",
      "시작곱을 입력해주세요 : 2\n",
      "끝곱을 입력해주세요 : 4\n",
      "3 * 2 = 6\n",
      "3 * 3 = 9\n",
      "3 * 4 = 12\n",
      "4 * 2 = 8\n",
      "4 * 3 = 12\n",
      "4 * 4 = 16\n",
      "5 * 2 = 10\n",
      "5 * 3 = 15\n",
      "5 * 4 = 20\n"
     ]
    }
   ],
   "source": [
    "startDan = int(input(\"시작단을 입력해주세요 : \"))\n",
    "endDan = int(input(\"끝단을 입력해주세요 : \"))\n",
    "startGop = int(input(\"시작곱을 입력해주세요 : \"))\n",
    "endGop = int(input(\"끝곱을 입력해주세요 : \"))\n",
    "for dan in range(startDan, endDan + 1):\n",
    "    for gop in range(startGop, endGop + 1):\n",
    "        print(f\"{dan} * {gop} = {dan * gop}\")\n",
    "## while True:\n",
    "##    if a < 10:\n",
    "##        break"
   ]
  },
  {
   "cell_type": "code",
   "execution_count": null,
   "id": "25bb78eb",
   "metadata": {},
   "outputs": [],
   "source": [
    "for num in range(5, 0, -1):\n",
    "    print(num)\n",
    "    \n",
    "for num in range(100, 0, -1): ### 3\n",
    "    print(num)\n",
    "    \n",
    "for num in reversed(range(1,101)): ### 7\n",
    "    print(num)"
   ]
  },
  {
   "cell_type": "code",
   "execution_count": 52,
   "id": "5e129d45",
   "metadata": {},
   "outputs": [
    {
     "name": "stdout",
     "output_type": "stream",
     "text": [
      "C\n",
      "C\n"
     ]
    }
   ],
   "source": [
    "score = 75\n",
    "if score >= 90:\n",
    "    massage = 'A'\n",
    "else :\n",
    "    if score >= 80:\n",
    "        massage = 'B'\n",
    "    else :\n",
    "        if score >= 70:\n",
    "            massage = 'C'\n",
    "        else:\n",
    "            if score >= 60:\n",
    "                massage = 'D'\n",
    "            else:\n",
    "                massage = 'F'\n",
    "print(massage)\n",
    "massage = 'A' if score >= 90 else(\n",
    "          'B' if score >= 80 else(\n",
    "          'C' if score >= 70 else(\n",
    "          'D' if score >= 60 else 'F'\n",
    "          )))\n",
    "print(massage)"
   ]
  },
  {
   "cell_type": "code",
   "execution_count": 55,
   "id": "6fd28dd1",
   "metadata": {},
   "outputs": [
    {
     "name": "stdout",
     "output_type": "stream",
     "text": [
      "[1, 2, 3, 4, 5, 6, 7, 8, 9, 10, 11, 12, 13, 14, 15, 16, 17, 18, 19, 20, 21, 22, 23, 24, 25, 26, 27, 28, 29, 30, 31, 32, 33, 34, 35, 36, 37, 38, 39, 40, 41, 42, 43, 44, 45, 46, 47, 48, 49, 50, 51, 52, 53, 54, 55, 56, 57, 58, 59, 60, 61, 62, 63, 64, 65, 66, 67, 68, 69, 70, 71, 72, 73, 74, 75, 76, 77, 78, 79, 80, 81, 82, 83, 84, 85, 86, 87, 88, 89, 90, 91, 92, 93, 94, 95, 96, 97, 98, 99, 100]\n",
      "[1, 2, 3, 4, 5, 6, 7, 8, 9, 10, 11, 12, 13, 14, 15, 16, 17, 18, 19, 20, 21, 22, 23, 24, 25, 26, 27, 28, 29, 30, 31, 32, 33, 34, 35, 36, 37, 38, 39, 40, 41, 42, 43, 44, 45, 46, 47, 48, 49, 50, 51, 52, 53, 54, 55, 56, 57, 58, 59, 60, 61, 62, 63, 64, 65, 66, 67, 68, 69, 70, 71, 72, 73, 74, 75, 76, 77, 78, 79, 80, 81, 82, 83, 84, 85, 86, 87, 88, 89, 90, 91, 92, 93, 94, 95, 96, 97, 98, 99, 100]\n",
      "[1, 2, 3, 4, 5, 6, 7, 8, 9, 10, 11, 12, 13, 14, 15, 16, 17, 18, 19, 20, 21, 22, 23, 24, 25, 26, 27, 28, 29, 30, 31, 32, 33, 34, 35, 36, 37, 38, 39, 40, 41, 42, 43, 44, 45, 46, 47, 48, 49, 50, 51, 52, 53, 54, 55, 56, 57, 58, 59, 60, 61, 62, 63, 64, 65, 66, 67, 68, 69, 70, 71, 72, 73, 74, 75, 76, 77, 78, 79, 80, 81, 82, 83, 84, 85, 86, 87, 88, 89, 90, 91, 92, 93, 94, 95, 96, 97, 98, 99, 100]\n"
     ]
    }
   ],
   "source": [
    "result = []\n",
    "i = 1\n",
    "while i <= 100:\n",
    "    result.append(i)\n",
    "    i += 1\n",
    "print(result)\n",
    "\n",
    "result = []\n",
    "for num in range(1, 101):\n",
    "    result.append(num)\n",
    "print(result)\n",
    "\n",
    "result = []\n",
    "result = [num for num in range(1, 101)]\n",
    "print(result)"
   ]
  },
  {
   "cell_type": "code",
   "execution_count": 57,
   "id": "4f32f841",
   "metadata": {},
   "outputs": [
    {
     "name": "stdout",
     "output_type": "stream",
     "text": [
      "[3, 6, 9, 12]\n",
      "[3, 6, 9, 12]\n"
     ]
    }
   ],
   "source": [
    "a = (1,2,3,4)\n",
    "\n",
    "result = []\n",
    "for num in a:\n",
    "    result.append(num * 3)\n",
    "print(result)\n",
    "\n",
    "result =[num * 3 for num in a]\n",
    "print(result)"
   ]
  },
  {
   "cell_type": "code",
   "execution_count": 59,
   "id": "784a53ca",
   "metadata": {},
   "outputs": [
    {
     "name": "stdout",
     "output_type": "stream",
     "text": [
      "[3, 6, 9, 12, 15]\n",
      "[3, 6, 9, 12, 15]\n"
     ]
    }
   ],
   "source": [
    "result = []\n",
    "for num in (1,2,3,4,5):\n",
    "    result.append(num * 3)\n",
    "print(result)\n",
    "\n",
    "result = [num * 3 for num in (1,2,3,4,5)]\n",
    "print(result)"
   ]
  },
  {
   "cell_type": "code",
   "execution_count": 62,
   "id": "2d3e685d",
   "metadata": {},
   "outputs": [
    {
     "name": "stdout",
     "output_type": "stream",
     "text": [
      "[6, 12]\n",
      "[6, 12]\n"
     ]
    }
   ],
   "source": [
    "# a튜플에서 값이 짝수인 것만 3을 곱한 값을 리스트에 추가하시오.\n",
    "a = (1,2,3,4)\n",
    "result = []\n",
    "for num in a:\n",
    "    if num % 2 == 0:\n",
    "        result.append(num * 3)\n",
    "print(result)\n",
    "result =[num * 3 for num in a\n",
    "                    if num % 2 == 0]\n",
    "print(result)"
   ]
  },
  {
   "cell_type": "code",
   "execution_count": 65,
   "id": "0152899b",
   "metadata": {},
   "outputs": [
    {
     "name": "stdout",
     "output_type": "stream",
     "text": [
      "[1, 2, 3, 4, 5, 6, 7, 8, 9, 10, 11, 12, 13, 14, 15, 16, 17, 18, 19, 20, 21, 22, 23, 24, 25, 26, 27, 28, 29, 30, 31, 32, 33, 34, 35, 36, 37, 38, 39, 40, 41, 42, 43, 44, 45]\n",
      "[1, 2, 3, 4, 5, 6, 7, 8, 9, 10, 11, 12, 13, 14, 15, 16, 17, 18, 19, 20, 21, 22, 23, 24, 25, 26, 27, 28, 29, 30, 31, 32, 33, 34, 35, 36, 37, 38, 39, 40, 41, 42, 43, 44, 45]\n",
      "[1, 2, 3, 4, 5, 6, 7, 8, 9, 10, 11, 12, 13, 14, 15, 16, 17, 18, 19, 20, 21, 22, 23, 24, 25, 26, 27, 28, 29, 30, 31, 32, 33, 34, 35, 36, 37, 38, 39, 40, 41, 42, 43, 44, 45]\n"
     ]
    }
   ],
   "source": [
    "lotto = []\n",
    "i = 1\n",
    "while i <= 45:\n",
    "    lotto.append(i)\n",
    "    i += 1\n",
    "print(lotto)\n",
    "\n",
    "lotto = []\n",
    "for i in range(1, 46):\n",
    "    lotto.append(i)\n",
    "print(lotto)\n",
    "\n",
    "lotto =[ i for i in range(1, 46) ]\n",
    "print(lotto)"
   ]
  },
  {
   "cell_type": "code",
   "execution_count": 70,
   "id": "3cfd2d61",
   "metadata": {},
   "outputs": [
    {
     "name": "stdout",
     "output_type": "stream",
     "text": [
      "3 * 4 = 12\n",
      "3 * 5 = 15\n",
      "3 * 6 = 18\n",
      "3 * 7 = 21\n",
      "4 * 4 = 16\n",
      "4 * 5 = 20\n",
      "4 * 6 = 24\n",
      "4 * 7 = 28\n",
      "5 * 4 = 20\n",
      "5 * 5 = 25\n",
      "5 * 6 = 30\n",
      "5 * 7 = 35\n",
      "6 * 4 = 24\n",
      "6 * 5 = 30\n",
      "6 * 6 = 36\n",
      "6 * 7 = 42\n",
      "[12, 15, 18, 21, 16, 20, 24, 28, 20, 25, 30, 35, 24, 30, 36, 42]\n",
      "[12, 15, 18, 21, 16, 20, 24, 28, 20, 25, 30, 35, 24, 30, 36, 42]\n"
     ]
    }
   ],
   "source": [
    "for dan in range(3, 7):\n",
    "    for gop in range(4, 8):\n",
    "        print(f\"{dan} * {gop} = {dan * gop}\")\n",
    "gogodan = []\n",
    "for dan in range(3, 7):\n",
    "    for gop in range(4, 8):\n",
    "        gogodan.append(dan * gop)\n",
    "print(gogodan)\n",
    "\n",
    "gogodan = [dan * gop for dan in range(3, 7)\n",
    "                     for gop in range(4, 8)]\n",
    "\n",
    "print(gogodan)"
   ]
  },
  {
   "cell_type": "code",
   "execution_count": 73,
   "id": "658a4a13",
   "metadata": {},
   "outputs": [
    {
     "name": "stdout",
     "output_type": "stream",
     "text": [
      "13\n"
     ]
    }
   ],
   "source": [
    "## 함수\n",
    "'''\n",
    "-- 함수정의\n",
    "f1(x,y) = 2x + 3y\n",
    "-- 함수호출\n",
    "z = f1(2,3)\n",
    "z = 13\n",
    "'''\n",
    "### 함수 정의\n",
    "def f1(x, y, i): # x,y,i : parameter : 매개변수\n",
    "    return 2*x + 3*y\n",
    "### 함수 호출\n",
    "z = f1(2,3, 4) # 2,3,4 : argument : 인수 : \n",
    "print(z)"
   ]
  },
  {
   "cell_type": "code",
   "execution_count": 74,
   "id": "63997a10",
   "metadata": {},
   "outputs": [
    {
     "name": "stdout",
     "output_type": "stream",
     "text": [
      "21\n"
     ]
    }
   ],
   "source": [
    "z = f1(3,5,7)\n",
    "print(z)"
   ]
  },
  {
   "cell_type": "code",
   "execution_count": 75,
   "id": "3ea21ee7",
   "metadata": {},
   "outputs": [
    {
     "name": "stdout",
     "output_type": "stream",
     "text": [
      "3 * 1 = 3\n",
      "3 * 2 = 6\n",
      "3 * 3 = 9\n",
      "3 * 4 = 12\n",
      "3 * 5 = 15\n",
      "3 * 6 = 18\n",
      "3 * 7 = 21\n",
      "3 * 8 = 24\n",
      "3 * 9 = 27\n"
     ]
    }
   ],
   "source": [
    "# 3단\n",
    "for gop in range(1, 10):\n",
    "    print(f\"{3} * {gop} = {3 * gop}\")\n",
    "# 4단\n",
    "for gop in range(1, 10):\n",
    "    print(f\"{4} * {gop} = {4 * gop}\")\n",
    "# 7단\n",
    "for gop in range(1, 10):\n",
    "    print(f\"{7} * {gop} = {7 * gop}\")"
   ]
  },
  {
   "cell_type": "code",
   "execution_count": 99,
   "id": "a6841f71",
   "metadata": {},
   "outputs": [],
   "source": [
    "def gugu(dan): # 함수\n",
    "    for gop in range(1, 10):\n",
    "        print(f\"{dan} * {gop} = {dan * gop}\")"
   ]
  },
  {
   "cell_type": "code",
   "execution_count": 100,
   "id": "64b02162",
   "metadata": {},
   "outputs": [
    {
     "name": "stdout",
     "output_type": "stream",
     "text": [
      "7 * 1 = 7\n",
      "7 * 2 = 14\n",
      "7 * 3 = 21\n",
      "7 * 4 = 28\n",
      "7 * 5 = 35\n",
      "7 * 6 = 42\n",
      "7 * 7 = 49\n",
      "7 * 8 = 56\n",
      "7 * 9 = 63\n"
     ]
    }
   ],
   "source": [
    "gugu(7)"
   ]
  },
  {
   "cell_type": "code",
   "execution_count": null,
   "id": "5ae03207",
   "metadata": {},
   "outputs": [],
   "source": [
    "'''\n",
    "gugu(2)\n",
    "gugu(3)\n",
    "gugu(4)\n",
    "gugu(5)\n",
    "'''\n",
    "for dan in range(2, 6):\n",
    "    gugu(dan)\n",
    "\n",
    "gugu(8)"
   ]
  },
  {
   "cell_type": "code",
   "execution_count": 103,
   "id": "7c988457",
   "metadata": {},
   "outputs": [
    {
     "name": "stdout",
     "output_type": "stream",
     "text": [
      "10\n"
     ]
    }
   ],
   "source": [
    "### 함수를 만드는 4가지 형식\n",
    "### 1. 일반적인 유형 : 입력값과 결과값이 있는 함수\n",
    "def test(x, y): # 입력값이 있다는 것은 매개변수가 있다.\n",
    "    return x + y # 결과 값이 있다는 것은 return문이 있다.\n",
    "result = test(3, 7)\n",
    "print(result)"
   ]
  },
  {
   "cell_type": "code",
   "execution_count": 105,
   "id": "13fa2b58",
   "metadata": {},
   "outputs": [
    {
     "name": "stdout",
     "output_type": "stream",
     "text": [
      "13\n"
     ]
    }
   ],
   "source": [
    "result = test(4, 9)\n",
    "print(result)"
   ]
  },
  {
   "cell_type": "code",
   "execution_count": 109,
   "id": "ef694bf7",
   "metadata": {},
   "outputs": [],
   "source": [
    "# 2. 입력값은 없고 결과값만 있는 함수\n",
    "def test1(): # 입력값이 없다는 것은 매개변수가 없다.\n",
    "    x = 10; y =20\n",
    "    return x + y"
   ]
  },
  {
   "cell_type": "code",
   "execution_count": 111,
   "id": "2f8cbc8f",
   "metadata": {},
   "outputs": [
    {
     "name": "stdout",
     "output_type": "stream",
     "text": [
      "30\n"
     ]
    }
   ],
   "source": [
    "result = test1()\n",
    "print(result)"
   ]
  },
  {
   "cell_type": "code",
   "execution_count": 113,
   "id": "00b30c65",
   "metadata": {},
   "outputs": [],
   "source": [
    "def test1():\n",
    "    x = int(input(\"숫자를 입력해주세요 : \"))\n",
    "    y = int(input(\"숫자를 입력해주세요 : \"))\n",
    "    return x + y"
   ]
  },
  {
   "cell_type": "code",
   "execution_count": null,
   "id": "e06cde61",
   "metadata": {},
   "outputs": [],
   "source": [
    "result = test1()\n",
    "print(result)"
   ]
  },
  {
   "cell_type": "code",
   "execution_count": 119,
   "id": "0aed0cde",
   "metadata": {},
   "outputs": [],
   "source": [
    "### 3.입력 값은 있으나 결과값이 없다.\n",
    "def test2(x, y): # 입력 값이 있다는 것은 매개변수가 있다\n",
    "    result = x + y\n",
    "    print(result) # 결과값이 없다는 것은 return문이 없다."
   ]
  },
  {
   "cell_type": "code",
   "execution_count": 121,
   "id": "d6d3699d",
   "metadata": {},
   "outputs": [
    {
     "name": "stdout",
     "output_type": "stream",
     "text": [
      "5\n"
     ]
    }
   ],
   "source": [
    "test2(2, 3)"
   ]
  },
  {
   "cell_type": "code",
   "execution_count": 122,
   "id": "944604df",
   "metadata": {},
   "outputs": [],
   "source": [
    "'''\n",
    "입력     결과\n",
    " o        o\n",
    " x        o\n",
    " o        x\n",
    " x        x\n",
    "'''\n",
    "def test3():\n",
    "    x = 10; y = 20\n",
    "    result = x + y\n",
    "    print(result)"
   ]
  },
  {
   "cell_type": "code",
   "execution_count": 123,
   "id": "463957cd",
   "metadata": {},
   "outputs": [
    {
     "name": "stdout",
     "output_type": "stream",
     "text": [
      "30\n"
     ]
    }
   ],
   "source": [
    "test3()"
   ]
  },
  {
   "cell_type": "code",
   "execution_count": 134,
   "id": "58ad7701",
   "metadata": {},
   "outputs": [
    {
     "name": "stdout",
     "output_type": "stream",
     "text": [
      "baszfhsab\n"
     ]
    }
   ],
   "source": [
    "def test3():\n",
    "    x = int(input(\"숫자를 입력해주세요. : \"))\n",
    "    y = int(input(\"숫자를 입력해주세요. : \"))\n",
    "    result = x + y\n",
    "    print(result)\n",
    "print(\"baszfhsab\")"
   ]
  },
  {
   "cell_type": "code",
   "execution_count": 135,
   "id": "bccd562d",
   "metadata": {},
   "outputs": [
    {
     "name": "stdout",
     "output_type": "stream",
     "text": [
      "숫자를 입력해주세요. : 3\n",
      "숫자를 입력해주세요. : 7\n",
      "10\n"
     ]
    }
   ],
   "source": [
    "test3()"
   ]
  },
  {
   "cell_type": "code",
   "execution_count": 136,
   "id": "0791d6d8",
   "metadata": {},
   "outputs": [
    {
     "name": "stdout",
     "output_type": "stream",
     "text": [
      "10, 7, 15, 31, 33, 2, "
     ]
    }
   ],
   "source": [
    "import random\n",
    "lotto = [num for num in range(1, 46)]\n",
    "lottoSize = len(lotto)\n",
    "for n in range(1, 7):\n",
    "    lottoSize -= 1\n",
    "    idx = random.randint(0, lottoSize)\n",
    "    lottoNum = lotto[idx]\n",
    "    print(lottoNum , end = \", \")"
   ]
  },
  {
   "cell_type": "code",
   "execution_count": 137,
   "id": "f3b39bf5",
   "metadata": {},
   "outputs": [],
   "source": [
    "import random\n",
    "\n",
    "def lottoFnc():\n",
    "    lotto = [num for num in range(1, 46)]\n",
    "    lottoSize = len(lotto)\n",
    "    for n in range(1, 7):\n",
    "        lottoSize -= 1\n",
    "        idx = random.randint(0, lottoSize)\n",
    "        lottoNum = lotto[idx]\n",
    "        print(lottoNum , end = \", \")"
   ]
  },
  {
   "cell_type": "code",
   "execution_count": 143,
   "id": "e345c6e1",
   "metadata": {},
   "outputs": [
    {
     "name": "stdout",
     "output_type": "stream",
     "text": [
      "30, 7, 15, 2, 6, 1, "
     ]
    }
   ],
   "source": [
    "lottoFnc()"
   ]
  },
  {
   "cell_type": "code",
   "execution_count": 145,
   "id": "462215a4",
   "metadata": {},
   "outputs": [
    {
     "name": "stdout",
     "output_type": "stream",
     "text": [
      "16, 30, 37, 8, 27, 8, "
     ]
    }
   ],
   "source": [
    "lottoFnc()"
   ]
  },
  {
   "cell_type": "code",
   "execution_count": 150,
   "id": "f73a4545",
   "metadata": {},
   "outputs": [
    {
     "name": "stdout",
     "output_type": "stream",
     "text": [
      "구매수량을 입력해주세요 : 5\n",
      "3, 27, 10, 23, 17, 22, \n",
      "4, 44, 22, 10, 7, 19, \n",
      "39, 23, 6, 23, 40, 25, \n",
      "23, 32, 35, 37, 4, 38, \n",
      "3, 9, 11, 38, 20, 20, \n"
     ]
    }
   ],
   "source": [
    "cnt = int(input(\"구매수량을 입력해주세요 : \"))\n",
    "for n in range(0 , cnt):\n",
    "    lottoFnc()\n",
    "    print()"
   ]
  },
  {
   "cell_type": "code",
   "execution_count": 151,
   "id": "0e125956",
   "metadata": {},
   "outputs": [],
   "source": [
    "def lottoCnt():\n",
    "    cnt = int(input(\"구매수량을 입력해주세요 : \"))\n",
    "    for n in range(0 , cnt):\n",
    "        lottoFnc()\n",
    "        print()    "
   ]
  },
  {
   "cell_type": "code",
   "execution_count": 152,
   "id": "145be85c",
   "metadata": {},
   "outputs": [
    {
     "name": "stdout",
     "output_type": "stream",
     "text": [
      "구매수량을 입력해주세요 : 5\n",
      "32, 19, 38, 5, 15, 19, \n",
      "13, 5, 6, 24, 18, 13, \n",
      "43, 2, 26, 19, 10, 34, \n",
      "45, 28, 15, 34, 30, 33, \n",
      "9, 30, 2, 15, 13, 21, \n"
     ]
    }
   ],
   "source": [
    "lottoCnt()"
   ]
  },
  {
   "cell_type": "code",
   "execution_count": 153,
   "id": "96457902",
   "metadata": {},
   "outputs": [
    {
     "name": "stdout",
     "output_type": "stream",
     "text": [
      "5050\n"
     ]
    }
   ],
   "source": [
    "start = 1\n",
    "end = 100\n",
    "\n",
    "sum = 0\n",
    "for num in range(start, end + 1):\n",
    "    sum += num\n",
    "\n",
    "print(sum)"
   ]
  },
  {
   "cell_type": "code",
   "execution_count": 162,
   "id": "9fff99cc",
   "metadata": {},
   "outputs": [],
   "source": [
    "# 매개변수가 있는 함수 \n",
    "# 1, 100  : 10 , 300\n",
    "def sum1(start, end):\n",
    "    sum = 0\n",
    "    for num in range(start, end + 1):\n",
    "        sum += num\n",
    "    return sum"
   ]
  },
  {
   "cell_type": "code",
   "execution_count": 163,
   "id": "6e05b6cc",
   "metadata": {},
   "outputs": [
    {
     "name": "stdout",
     "output_type": "stream",
     "text": [
      "45105\n",
      "5050\n"
     ]
    }
   ],
   "source": [
    "result = sum1(10, 300)\n",
    "print(result)\n",
    "result =sum1(1, 100)\n",
    "print(result)"
   ]
  },
  {
   "cell_type": "code",
   "execution_count": 164,
   "id": "4b77abd9",
   "metadata": {},
   "outputs": [
    {
     "name": "stdout",
     "output_type": "stream",
     "text": [
      "45105\n"
     ]
    }
   ],
   "source": [
    "result = sum1(start= 10, end = 300)\n",
    "print(result)"
   ]
  },
  {
   "cell_type": "code",
   "execution_count": 166,
   "id": "bb19e9f9",
   "metadata": {},
   "outputs": [
    {
     "name": "stdout",
     "output_type": "stream",
     "text": [
      "45105\n"
     ]
    }
   ],
   "source": [
    "result = sum1(end = 300, start = 10)\n",
    "print(result)"
   ]
  },
  {
   "cell_type": "code",
   "execution_count": 175,
   "id": "46ad249c",
   "metadata": {},
   "outputs": [],
   "source": [
    "#매개변수에 *을 주면 argument값을 여러개 받을 수 있다.\n",
    "def sum11(*para): \n",
    "    sum = 0\n",
    "    for num in para:\n",
    "        sum += num\n",
    "    print(sum)"
   ]
  },
  {
   "cell_type": "code",
   "execution_count": 176,
   "id": "a514c546",
   "metadata": {},
   "outputs": [
    {
     "name": "stdout",
     "output_type": "stream",
     "text": [
      "3\n",
      "6\n",
      "10\n",
      "55\n"
     ]
    }
   ],
   "source": [
    "sum11(1,2)\n",
    "sum11(1,2,3)\n",
    "sum11(1,2,3,4)\n",
    "sum11(1,2,3,4,5,6,7,8,9,10)"
   ]
  },
  {
   "cell_type": "code",
   "execution_count": 178,
   "id": "85bf4603",
   "metadata": {},
   "outputs": [],
   "source": [
    "def sum12(num1, *num2):\n",
    "    print(num1)\n",
    "    print(num2)    "
   ]
  },
  {
   "cell_type": "code",
   "execution_count": 179,
   "id": "aa02d38b",
   "metadata": {},
   "outputs": [
    {
     "name": "stdout",
     "output_type": "stream",
     "text": [
      "1\n",
      "(2, 3, 4, 5, 6, 7)\n"
     ]
    }
   ],
   "source": [
    "sum12(1, 2,3,4,5,6,7)"
   ]
  },
  {
   "cell_type": "code",
   "execution_count": 184,
   "id": "35b1cde2",
   "metadata": {},
   "outputs": [],
   "source": [
    "def calc(opt, *num):\n",
    "    sum1 = 1\n",
    "    if opt == \"add\":\n",
    "        for n in num:\n",
    "            sum1 += n\n",
    "    elif opt == \"mul\":\n",
    "        for n in num:\n",
    "            sum1 *= n\n",
    "    print(sum1)"
   ]
  },
  {
   "cell_type": "code",
   "execution_count": 185,
   "id": "dba80daa",
   "metadata": {},
   "outputs": [
    {
     "name": "stdout",
     "output_type": "stream",
     "text": [
      "16\n",
      "60\n"
     ]
    }
   ],
   "source": [
    "calc('add', 1,2,3,4,5)\n",
    "calc('mul', 3,4,5)"
   ]
  },
  {
   "cell_type": "code",
   "execution_count": 194,
   "id": "5dcb08d0",
   "metadata": {},
   "outputs": [],
   "source": [
    "### return문에 의해 전달 되는 값은 오로지 하나이다.\n",
    "def add():\n",
    "    x = 10; y = 30;\n",
    "    return x + y"
   ]
  },
  {
   "cell_type": "code",
   "execution_count": 196,
   "id": "6201601b",
   "metadata": {},
   "outputs": [
    {
     "name": "stdout",
     "output_type": "stream",
     "text": [
      "(40, 10)\n",
      "40 10\n"
     ]
    }
   ],
   "source": [
    "result = add()\n",
    "print(result)"
   ]
  },
  {
   "cell_type": "code",
   "execution_count": 197,
   "id": "7e07870d",
   "metadata": {},
   "outputs": [
    {
     "name": "stdout",
     "output_type": "stream",
     "text": [
      "10\n",
      "[10, 20, 30]\n",
      "(10, 20)\n",
      "{1, 2, 3, 4, 5}\n"
     ]
    }
   ],
   "source": [
    "i = 10\n",
    "print(i)\n",
    "l = [10, 20, 30]\n",
    "print(l)\n",
    "t = (10, 20)\n",
    "print(t)\n",
    "s = {1,2,3,4,5}\n",
    "print(s)"
   ]
  },
  {
   "cell_type": "code",
   "execution_count": 198,
   "id": "855150f5",
   "metadata": {},
   "outputs": [
    {
     "name": "stdout",
     "output_type": "stream",
     "text": [
      "(10, 20)\n"
     ]
    }
   ],
   "source": [
    "i = 10, 20\n",
    "print(i)"
   ]
  },
  {
   "cell_type": "code",
   "execution_count": 201,
   "id": "7803a705",
   "metadata": {},
   "outputs": [],
   "source": [
    "def test12(x ,y):\n",
    "    add = x + y\n",
    "    mul = x * y\n",
    "    return add, mul # 리턴된 값은 튜플로 전달된다."
   ]
  },
  {
   "cell_type": "code",
   "execution_count": 205,
   "id": "90f2d2d7",
   "metadata": {},
   "outputs": [
    {
     "name": "stdout",
     "output_type": "stream",
     "text": [
      "(7, 12)\n",
      "7 12\n"
     ]
    }
   ],
   "source": [
    "result = test12(3, 4) #튜플로 받는다\n",
    "print(result)  # (7, 12)\n",
    "print(result[0], result[1])"
   ]
  },
  {
   "cell_type": "code",
   "execution_count": 206,
   "id": "ce8d1faf",
   "metadata": {},
   "outputs": [],
   "source": [
    "#### 매개변수에 초깃값 미리 설정하기 \n",
    "def say_myself(name, old, man = True):\n",
    "    print(\"나의 이름은 %s 입니다.\" % name) \n",
    "    print(\"나이는 %d살입니다.\" % old)\n",
    "    if man:\n",
    "        print(\"남자입니다.\")\n",
    "    else:\n",
    "        print(\"여자입니다\")"
   ]
  },
  {
   "cell_type": "code",
   "execution_count": 209,
   "id": "6aa9e61a",
   "metadata": {},
   "outputs": [
    {
     "name": "stdout",
     "output_type": "stream",
     "text": [
      "나의 이름은 이숭무 입니다.\n",
      "나이는 15살입니다.\n",
      "남자입니다.\n",
      "나의 이름은 박준현 입니다.\n",
      "나이는 20살입니다.\n",
      "여자입니다\n"
     ]
    }
   ],
   "source": [
    "say_myself('이숭무', 15)\n",
    "say_myself('박준현', 20, False)"
   ]
  },
  {
   "cell_type": "code",
   "execution_count": 212,
   "id": "9dbba776",
   "metadata": {},
   "outputs": [
    {
     "name": "stdout",
     "output_type": "stream",
     "text": [
      "나의 이름은 이숭무 입니다.\n",
      "나이는 25살입니다.\n",
      "여자입니다\n",
      "나의 이름은 이숭무 입니다.\n",
      "나이는 0살입니다.\n",
      "남자입니다.\n"
     ]
    }
   ],
   "source": [
    "def say_myself(name, old=25, man = True):\n",
    "    print(\"나의 이름은 %s 입니다.\" % name) \n",
    "    print(\"나이는 %d살입니다.\" % old)\n",
    "    if man:\n",
    "        print(\"남자입니다.\")\n",
    "    else:\n",
    "        print(\"여자입니다\")\n",
    "say_myself(name=\"이숭무\", man = False)\n",
    "say_myself(\"이숭무\", False) # X"
   ]
  },
  {
   "cell_type": "code",
   "execution_count": 214,
   "id": "b23a55fa",
   "metadata": {},
   "outputs": [
    {
     "name": "stdout",
     "output_type": "stream",
     "text": [
      "함수안에서 실행 : 100\n",
      "1\n"
     ]
    }
   ],
   "source": [
    "### 전역변수 : 보통 프로그램이 종료되기 전까지  사용할 수 있는 변수\n",
    "### 지역변수 : 함수가 종료되면 변수도 같이 소멸\n",
    "b = 1 # 전역변수\n",
    "def test4():\n",
    "    b = 100 # 지역변수\n",
    "    print(f\"함수안에서 실행 : {b}\")\n",
    "    # 함수내에서는 지역변수가 우선한다.\n",
    "test4()\n",
    "print(b)"
   ]
  },
  {
   "cell_type": "code",
   "execution_count": 220,
   "id": "59086674",
   "metadata": {},
   "outputs": [
    {
     "name": "stdout",
     "output_type": "stream",
     "text": [
      "함수안에서 실행 b : 10\n",
      "함수 밖에서 실행 b : 10\n"
     ]
    }
   ],
   "source": [
    "b = 10\n",
    "def test5():\n",
    "    print(f\"함수안에서 실행 b : {b}\")\n",
    "test5()\n",
    "print(f\"함수 밖에서 실행 b : {b}\")"
   ]
  },
  {
   "cell_type": "code",
   "execution_count": 221,
   "id": "59911d6a",
   "metadata": {},
   "outputs": [
    {
     "name": "stdout",
     "output_type": "stream",
     "text": [
      "함수안에서 실행 b : 100\n",
      "함수 밖에서 실행 b : 10\n"
     ]
    }
   ],
   "source": [
    "b = 10 # 전역변수\n",
    "def test6():\n",
    "    b = 100 # 지역 변수\n",
    "    print(f\"함수안에서 실행 b : {b}\") # 100\n",
    "test6()\n",
    "print(f\"함수 밖에서 실행 b : {b}\") # 10"
   ]
  },
  {
   "cell_type": "code",
   "execution_count": 223,
   "id": "20b695d2",
   "metadata": {},
   "outputs": [
    {
     "name": "stdout",
     "output_type": "stream",
     "text": [
      "함수안에서 실행 b : 100\n",
      "함수 밖에서 실행 b : 100\n"
     ]
    }
   ],
   "source": [
    "b = 10 # 전역변수\n",
    "def test7():\n",
    "    global b\n",
    "    b = 100 # 전역변수 \n",
    "    print(f\"함수안에서 실행 b : {b}\")  # 100\n",
    "test7()\n",
    "print(f\"함수 밖에서 실행 b : {b}\") # 100"
   ]
  },
  {
   "cell_type": "code",
   "execution_count": 226,
   "id": "5514f562",
   "metadata": {},
   "outputs": [
    {
     "data": {
      "text/plain": [
       "7"
      ]
     },
     "execution_count": 226,
     "metadata": {},
     "output_type": "execute_result"
    }
   ],
   "source": [
    "### lambda함수\n",
    "def add(a, b):\n",
    "    return a + b\n",
    "add(3, 4)"
   ]
  },
  {
   "cell_type": "code",
   "execution_count": 228,
   "id": "e5b4ed4b",
   "metadata": {},
   "outputs": [
    {
     "data": {
      "text/plain": [
       "7"
      ]
     },
     "execution_count": 228,
     "metadata": {},
     "output_type": "execute_result"
    }
   ],
   "source": [
    "add = lambda a, b : a + b\n",
    "add(3, 4)"
   ]
  },
  {
   "cell_type": "code",
   "execution_count": 231,
   "id": "78b8b8ec",
   "metadata": {},
   "outputs": [
    {
     "data": {
      "text/plain": [
       "7"
      ]
     },
     "execution_count": 231,
     "metadata": {},
     "output_type": "execute_result"
    }
   ],
   "source": [
    "def add(a, b = 4):\n",
    "    return a + b\n",
    "add(3)"
   ]
  },
  {
   "cell_type": "code",
   "execution_count": 233,
   "id": "0df54ab4",
   "metadata": {},
   "outputs": [
    {
     "data": {
      "text/plain": [
       "7"
      ]
     },
     "execution_count": 233,
     "metadata": {},
     "output_type": "execute_result"
    }
   ],
   "source": [
    "add = lambda a, b = 4 : a + b\n",
    "add(3)"
   ]
  },
  {
   "cell_type": "code",
   "execution_count": 234,
   "id": "8fb25851",
   "metadata": {},
   "outputs": [
    {
     "name": "stdout",
     "output_type": "stream",
     "text": [
      "7\n"
     ]
    }
   ],
   "source": [
    "def add(opt, a, b):\n",
    "    if opt == \"add\":\n",
    "        return a + b\n",
    "    else:\n",
    "        return a - b\n",
    "result = add(\"add\", 4 , 3)\n",
    "print(result)"
   ]
  },
  {
   "cell_type": "code",
   "execution_count": 236,
   "id": "487b91eb",
   "metadata": {},
   "outputs": [
    {
     "data": {
      "text/plain": [
       "7"
      ]
     },
     "execution_count": 236,
     "metadata": {},
     "output_type": "execute_result"
    }
   ],
   "source": [
    "add = lambda opt, a, b : a + b if opt == \"add\" else a - b\n",
    "add('add', 3, 4)"
   ]
  },
  {
   "cell_type": "code",
   "execution_count": 237,
   "id": "e2ab7110",
   "metadata": {},
   "outputs": [
    {
     "name": "stdout",
     "output_type": "stream",
     "text": [
      "7\n"
     ]
    }
   ],
   "source": [
    "def add(opt, a, b):\n",
    "    if opt == \"add\":\n",
    "        return a + b\n",
    "    else:\n",
    "        if opt == \"sub\":\n",
    "            return a - b\n",
    "        else:\n",
    "            if opt == \"mul\":\n",
    "                return a * b\n",
    "            else:\n",
    "                return a / b\n",
    "result = add(\"add\", 4 , 3)\n",
    "print(result)"
   ]
  },
  {
   "cell_type": "code",
   "execution_count": 239,
   "id": "b2f62ee9",
   "metadata": {},
   "outputs": [
    {
     "data": {
      "text/plain": [
       "12"
      ]
     },
     "execution_count": 239,
     "metadata": {},
     "output_type": "execute_result"
    }
   ],
   "source": [
    "add = lambda opt, a, b : a + b if opt == \"add\" else(\n",
    "                         a - b if opt == \"sub\" else(\n",
    "                         a * b if opt == \"mul\" else a / b\n",
    "))\n",
    "add('mul', 3, 4)"
   ]
  },
  {
   "cell_type": "code",
   "execution_count": 240,
   "id": "516ca187",
   "metadata": {},
   "outputs": [],
   "source": [
    "## 파일 입출력\n",
    "## 변수가 가지고 있는 데이터를 파일에 저장하거나 \n",
    "## 또는 파일에 있는 값을 변수로 가져오는 것을 말한다.\n",
    "\n",
    "## 파일에 데이터를 저장\n",
    "f = open(\"test.txt\", \"w\")\n",
    "f.write(\"1번째 줄입니다.\\n\")\n",
    "f.write(\"2번째 줄입니다.\\n\")\n",
    "f.write(\"3번째 줄입니다.\\n\")\n",
    "f.write(\"4번째 줄입니다.\\n\")\n",
    "f.write(\"5번째 줄입니다.\\n\")\n",
    "f.write(\"6번째 줄입니다.\\n\")\n",
    "f.close()"
   ]
  },
  {
   "cell_type": "code",
   "execution_count": 251,
   "id": "b061aa4f",
   "metadata": {},
   "outputs": [],
   "source": [
    "f = open(\"test.txt\", \"w\", encoding='utf-8') # overwrite\n",
    "for n in range(11, 21):\n",
    "    f.write(f\"{n}번째 줄입니다.\\n\")\n",
    "f.close()"
   ]
  },
  {
   "cell_type": "code",
   "execution_count": 252,
   "id": "c2182b6f",
   "metadata": {},
   "outputs": [],
   "source": [
    "f = open(\"test.txt\" , mode = \"a\" , encoding='utf-8') #append\n",
    "for n in range(21, 31):\n",
    "    f.write(f\"{n}번째 줄입니다.\\n\")\n",
    "f.close()"
   ]
  },
  {
   "cell_type": "code",
   "execution_count": 259,
   "id": "368d39ac",
   "metadata": {},
   "outputs": [
    {
     "name": "stdout",
     "output_type": "stream",
     "text": [
      "11번째 줄입니다.\n",
      "12번째 줄입니다.\n",
      "13번째 줄입니다.\n",
      "14번째 줄입니다.\n",
      "15번째 줄입니다.\n",
      "16번째 줄입니다.\n",
      "17번째 줄입니다.\n",
      "18번째 줄입니다.\n",
      "19번째 줄입니다.\n",
      "20번째 줄입니다.\n",
      "21번째 줄입니다.\n",
      "22번째 줄입니다.\n",
      "23번째 줄입니다.\n",
      "24번째 줄입니다.\n",
      "25번째 줄입니다.\n",
      "26번째 줄입니다.\n",
      "27번째 줄입니다.\n",
      "28번째 줄입니다.\n",
      "29번째 줄입니다.\n",
      "30번째 줄입니다.\n"
     ]
    }
   ],
   "source": [
    "f = open(\"test.txt\" , mode = \"r\", encoding='utf-8') # read\n",
    "'''\n",
    "line = f.readline()\n",
    "print(line, end=\"\")\n",
    "line = f.readline()\n",
    "print(line, end=\"\")\n",
    "line = f.readline()\n",
    "print(line, end=\"\")\n",
    "line = f.readline()\n",
    "print(line, end=\"\")\n",
    "'''\n",
    "while True:\n",
    "    line = f.readline()\n",
    "    if not line:\n",
    "        break\n",
    "    print(line, end=\"\")\n",
    "f.close()"
   ]
  },
  {
   "cell_type": "code",
   "execution_count": 264,
   "id": "b8e80115",
   "metadata": {},
   "outputs": [
    {
     "name": "stdout",
     "output_type": "stream",
     "text": [
      "['11번째 줄입니다.\\n', '12번째 줄입니다.\\n', '13번째 줄입니다.\\n', '14번째 줄입니다.\\n', '15번째 줄입니다.\\n', '16번째 줄입니다.\\n', '17번째 줄입니다.\\n', '18번째 줄입니다.\\n', '19번째 줄입니다.\\n', '20번째 줄입니다.\\n', '21번째 줄입니다.\\n', '22번째 줄입니다.\\n', '23번째 줄입니다.\\n', '24번째 줄입니다.\\n', '25번째 줄입니다.\\n', '26번째 줄입니다.\\n', '27번째 줄입니다.\\n', '28번째 줄입니다.\\n', '29번째 줄입니다.\\n', '30번째 줄입니다.\\n']\n"
     ]
    }
   ],
   "source": [
    "f = open(\"test.txt\", \"r\", encoding='utf-8')\n",
    "lines = f.readlines()\n",
    "print(lines)\n",
    "for line in lines:\n",
    "    print(line)\n",
    "print(\"\".join(lines)) "
   ]
  },
  {
   "cell_type": "code",
   "execution_count": 266,
   "id": "9cd59b6d",
   "metadata": {},
   "outputs": [
    {
     "name": "stdout",
     "output_type": "stream",
     "text": [
      "11번째 줄입니다.\n",
      "12번째 줄입니다.\n",
      "13번째 줄입니다.\n",
      "14번째 줄입니다.\n",
      "15번째 줄입니다.\n",
      "16번째 줄입니다.\n",
      "17번째 줄입니다.\n",
      "18번째 줄입니다.\n",
      "19번째 줄입니다.\n",
      "20번째 줄입니다.\n",
      "21번째 줄입니다.\n",
      "22번째 줄입니다.\n",
      "23번째 줄입니다.\n",
      "24번째 줄입니다.\n",
      "25번째 줄입니다.\n",
      "26번째 줄입니다.\n",
      "27번째 줄입니다.\n",
      "28번째 줄입니다.\n",
      "29번째 줄입니다.\n",
      "30번째 줄입니다.\n",
      "\n"
     ]
    }
   ],
   "source": [
    "f = open(\"test.txt\", \"r\", encoding='utf-8')\n",
    "data = f.read()\n",
    "f.close()\n",
    "print(data)"
   ]
  },
  {
   "cell_type": "code",
   "execution_count": 267,
   "id": "408e6153",
   "metadata": {},
   "outputs": [],
   "source": [
    "with open(\"test.txt\", \"w\" ) as f:\n",
    "    for num in range(1, 6):\n",
    "        f.write(f\"{num}번째 줄입니다.\\n\")"
   ]
  },
  {
   "cell_type": "code",
   "execution_count": 268,
   "id": "693ba515",
   "metadata": {},
   "outputs": [],
   "source": [
    "with open(\"test.txt\", \"a\" ) as f:\n",
    "    for num in range(6, 11):\n",
    "        f.write(f\"{num}번째 줄입니다.\\n\")"
   ]
  },
  {
   "cell_type": "code",
   "execution_count": 269,
   "id": "3f0d3c35",
   "metadata": {},
   "outputs": [
    {
     "name": "stdout",
     "output_type": "stream",
     "text": [
      "1번째 줄입니다.\n",
      "2번째 줄입니다.\n",
      "3번째 줄입니다.\n",
      "4번째 줄입니다.\n",
      "5번째 줄입니다.\n",
      "6번째 줄입니다.\n",
      "7번째 줄입니다.\n",
      "8번째 줄입니다.\n",
      "9번째 줄입니다.\n",
      "10번째 줄입니다.\n",
      "\n"
     ]
    }
   ],
   "source": [
    "with open(\"test.txt\", \"r\" ) as f:\n",
    "    data = f.read()\n",
    "print(data)"
   ]
  },
  {
   "cell_type": "code",
   "execution_count": null,
   "id": "4b310133",
   "metadata": {},
   "outputs": [],
   "source": []
  },
  {
   "cell_type": "code",
   "execution_count": null,
   "id": "1fc60451",
   "metadata": {},
   "outputs": [],
   "source": []
  },
  {
   "cell_type": "code",
   "execution_count": null,
   "id": "4ac6f443",
   "metadata": {},
   "outputs": [],
   "source": []
  },
  {
   "cell_type": "code",
   "execution_count": null,
   "id": "7e09d301",
   "metadata": {},
   "outputs": [],
   "source": []
  },
  {
   "cell_type": "code",
   "execution_count": null,
   "id": "d7e88589",
   "metadata": {},
   "outputs": [],
   "source": []
  }
 ],
 "metadata": {
  "kernelspec": {
   "display_name": "Python 3",
   "language": "python",
   "name": "python3"
  },
  "language_info": {
   "codemirror_mode": {
    "name": "ipython",
    "version": 3
   },
   "file_extension": ".py",
   "mimetype": "text/x-python",
   "name": "python",
   "nbconvert_exporter": "python",
   "pygments_lexer": "ipython3",
   "version": "3.8.6"
  }
 },
 "nbformat": 4,
 "nbformat_minor": 5
}
