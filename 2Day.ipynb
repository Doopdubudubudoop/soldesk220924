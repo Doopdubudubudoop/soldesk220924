{
 "cells": [
  {
   "cell_type": "code",
   "execution_count": 1,
   "id": "dff7f266",
   "metadata": {},
   "outputs": [
    {
     "name": "stderr",
     "output_type": "stream",
     "text": [
      "C:\\Users\\soldesk\\AppData\\Local\\Temp\\ipykernel_12680\\1014303460.py:1: DeprecationWarning: Importing display from IPython.core.display is deprecated since IPython 7.14, please import from IPython display\n",
      "  from IPython.core.display import display, HTML\n"
     ]
    },
    {
     "data": {
      "text/html": [
       "<style>\n",
       "div.container { width:100% !important; }\n",
       "div.CodeMirror {font-family: Consolas; font-size: 30pt;}\n",
       "div.output { font-size: 20pt; font-weight: bold;}\n",
       "div.input { font-family: Consolas; font-size: 30pt;}\n",
       "div.prompt { min-width: 100px;}\n",
       "</style>\n"
      ],
      "text/plain": [
       "<IPython.core.display.HTML object>"
      ]
     },
     "metadata": {},
     "output_type": "display_data"
    }
   ],
   "source": [
    "from IPython.core.display import display, HTML\n",
    "display(HTML(\n",
    "\"\"\"<style>\n",
    "div.container { width:100% !important; }\n",
    "div.CodeMirror {font-family: Consolas; font-size: 30pt;}\n",
    "div.output { font-size: 20pt; font-weight: bold;}\n",
    "div.input { font-family: Consolas; font-size: 30pt;}\n",
    "div.prompt { min-width: 100px;}\n",
    "</style>\n",
    "\"\"\"))"
   ]
  },
  {
   "cell_type": "code",
   "execution_count": 11,
   "id": "d49b8257",
   "metadata": {},
   "outputs": [
    {
     "name": "stdout",
     "output_type": "stream",
     "text": [
      "[3, ['a', 'b', 'c'], 4]\n",
      "['a', 'b', 'c']\n",
      "b\n",
      "['a', 'b', 'c']\n",
      "['b', 'c']\n",
      "['b', 'c']\n",
      "['b', 'c']\n"
     ]
    }
   ],
   "source": [
    "# idexing과 slicing을 혼합해서 사용\n",
    "a = [1, 2, 3, ['a', 'b', 'c'], 4, 5]\n",
    "#    0  1  2         3         4  5\n",
    "#               0    1    2\n",
    "\n",
    "# [3, ['a', 'b', 'c'], 4]\n",
    "#  0         1         2\n",
    "#      0     1    2\n",
    "print(a[2 : 2 + 3])\n",
    "#  ['a', 'b', 'c']\n",
    "#    0    1    2\n",
    "print(a[2 : 2 + 3][1])\n",
    "# b\n",
    "print(a[2 : 2 + 3][1][1])\n",
    "\n",
    "# ['b', 'c']를 출력하세요.\n",
    "print(a[3])\n",
    "print(a[3][1:3])\n",
    "print(a[3][1:])\n",
    "print(a[-3][-2:])"
   ]
  },
  {
   "cell_type": "code",
   "execution_count": 12,
   "id": "2800b5bf",
   "metadata": {},
   "outputs": [],
   "source": [
    "# 자료형\n",
    "# 리터널 상수 \n",
    "#        자연어 : 한국어, 중국,... \n",
    "#                 문자열 : \"a\",'가',\"\"\"a\"\"\",'''가''', (a, 가 :변수)\n",
    "#        자연수 : \n",
    "#                실수 : 10.5 , 100.777 , \"10.5\":문자, float(\"10.5\")  \n",
    "#                정수 : 10, 100, 150 , \"10\" : 문자 , int(\"10\")\n",
    "# 리스트 : 여러개의 값을 가지기 위한 것 \n",
    "#          [] :빈 리스트\n",
    "#          [1,2,3] : 정수 리스트\n",
    "#          ['a','b','c'] :문자열 리스트\n",
    "#          [1, 2, 3, ['a', 'b', 'c'],'a','b'] : 혼합형 리스트"
   ]
  },
  {
   "cell_type": "code",
   "execution_count": 21,
   "id": "7459f270",
   "metadata": {},
   "outputs": [
    {
     "data": {
      "text/plain": [
       "'나는 10.0개의 사과를 먹어서 three일 동안 아팠습니다.'"
      ]
     },
     "execution_count": 21,
     "metadata": {},
     "output_type": "execute_result"
    }
   ],
   "source": [
    "# 문자열 다루기\n",
    "number = 10.0\n",
    "day = \"three\"\n",
    "'''나는 10개의 사과를 먹어서 three일 동안 아팠습니다.'''\n",
    "a = \"나는 %d개의 사과를 먹어서 %s일 동안 아팠습니다.\"%(number, day)\n",
    "a = \"나는 %-10s 사과를 먹어서 %10s일 동안 아팠습니다.\"%(number, day)\n",
    "a = \"나는 {0}개의 사과를 먹어서 {1}일 동안 아팠습니다.\"\\\n",
    "                        .format(number,day)\n",
    "a = \"나는 {0}개의 사과를 먹어서 {d}일 동안 아팠습니다.\"\\\n",
    "                        .format(number, d = day)\n",
    "a = f\"나는 {number}개의 사과를 먹어서 {day}일 동안 아팠습니다.\"\n",
    "a"
   ]
  },
  {
   "cell_type": "code",
   "execution_count": 27,
   "id": "b0af86ed",
   "metadata": {},
   "outputs": [
    {
     "name": "stdout",
     "output_type": "stream",
     "text": [
      "Life is too short\n",
      "7\n",
      "==============================\n",
      "[1, 2, 3, 'aaa', 'bbb', 'ccc']\n",
      "3\n",
      "2\n",
      "[1, 10, 3]\n"
     ]
    }
   ],
   "source": [
    "str1 = \"Life is\"\n",
    "str2 = 'too short'\n",
    "print(str1 + \" \" + str2)\n",
    "print(len(str1)) # 문자의 갯수\n",
    "print(\"=\" * 30)\n",
    "a = [1,2,3]\n",
    "#    0 1 2\n",
    "b = ['aaa','bbb', 'ccc']\n",
    "print(a + b) # 붙이기 연산자.\n",
    "print(len(a)) # 요소의 갯수\n",
    "print(a[1])\n",
    "a[1] = 10 \n",
    "# 리스트에서는 요소의 값을 indexing을 이용해서 변경할 수 있다.\n",
    "print(a)"
   ]
  },
  {
   "cell_type": "code",
   "execution_count": 29,
   "id": "e855b8e2",
   "metadata": {},
   "outputs": [
    {
     "data": {
      "text/plain": [
       "'L'"
      ]
     },
     "execution_count": 29,
     "metadata": {},
     "output_type": "execute_result"
    }
   ],
   "source": [
    "c = ['Life', 'is', 'too', 'short'] \n",
    "# \"your leg\"\n",
    "c[0] = \"your leg\"\n",
    "c\n",
    "########참고#########\n",
    "str1 = \"Life is\"\n",
    "#       0123456\n",
    "str1[0]\n",
    "#str1[0] ='l'(x) # 문자열의 문자는 변경할 수 없다."
   ]
  },
  {
   "cell_type": "code",
   "execution_count": 41,
   "id": "032bcac4",
   "metadata": {},
   "outputs": [
    {
     "name": "stdout",
     "output_type": "stream",
     "text": [
      "[1, 2, 3, 4, 5, 6]\n",
      "[1, 2, 3]\n",
      "[4, 5, 6]\n",
      "[1, 2, 3, 'too', [4, 5, 6]]\n",
      "[1, 2, 3, 'too', [4, 5, 6], 7, 8, 9]\n",
      "[1, 2, 3, ['a', 'b', 'c'], 'too', [4, 5, 6], 7, 8, 9]\n"
     ]
    }
   ],
   "source": [
    "# 리스트 함수\n",
    "### 리스트에 요소 추가 \n",
    "a = [1,2,3]\n",
    "b = [4,5,6]\n",
    "print(a + b)\n",
    "print(a)\n",
    "print(b)\n",
    "a.append(\"too\")\n",
    "a.append([4,5,6]) # 요소를 하나씩 추가\n",
    "print(a)\n",
    "#리스트 확장\n",
    "a.extend([7,8,9])\n",
    "print(a)\n",
    "# 삽입\n",
    "a.insert(3, ['a','b','c'])\n",
    "print(a)"
   ]
  },
  {
   "cell_type": "code",
   "execution_count": 45,
   "id": "1f1ee2da",
   "metadata": {},
   "outputs": [
    {
     "name": "stdout",
     "output_type": "stream",
     "text": [
      "[1, 2, 3, 4, 5, 6]\n",
      "[1, 2, 3]\n",
      "[1, 2, 3, 4]\n"
     ]
    }
   ],
   "source": [
    "# +, append\n",
    "a = [1,2,3]\n",
    "b = [4,5,6]\n",
    "print(a+b)\n",
    "print(a)\n",
    "a.append(4)\n",
    "print(a)"
   ]
  },
  {
   "cell_type": "code",
   "execution_count": 51,
   "id": "50794884",
   "metadata": {},
   "outputs": [
    {
     "name": "stdout",
     "output_type": "stream",
     "text": [
      "['Life', 'is', 'too', 'short', 2, 3]\n",
      "['Life', 'is', 'too', 3]\n",
      "['Life', 'is']\n"
     ]
    }
   ],
   "source": [
    "l = ['Life', 'is', 'too', 'short',1 ,2 ,3]\n",
    "#      0       1     2       3    4  5  6\n",
    "# 요소 삭제 \n",
    "# del : index를 이용해서 요소 삭제\n",
    "l[4]\n",
    "del l[4]\n",
    "print(l)\n",
    "# ['Life', 'is', 'too', 'short', 2, 3]\n",
    "#    0       1     2       3     4  5\n",
    "l[3: 3 + 2]\n",
    "del l[3: 3 + 2]\n",
    "print(l) # ['Life', 'is', 'too', 3]\n",
    "#             0      1      2    3\n",
    "l[2:]\n",
    "del l[2:]\n",
    "print(l)"
   ]
  },
  {
   "cell_type": "code",
   "execution_count": 56,
   "id": "7eff39ed",
   "metadata": {},
   "outputs": [
    {
     "name": "stdout",
     "output_type": "stream",
     "text": [
      "['Life', 'is', 'too', 'short', [1, 4], '3']\n",
      "['Life', 'is', 'too', 'short', '3']\n",
      "['Life', 'too', 'short', '3']\n",
      "['Life', 'too', 'short']\n"
     ]
    }
   ],
   "source": [
    "# 요소의 값을 이용해서 요소 삭제\n",
    "l = ['Life', 'is', 'too', 'short',[1 , 4] ,2 ,'3']\n",
    "l.remove(2) # 요소 값\n",
    "print(l)\n",
    "l.remove([1 , 4])\n",
    "print(l)\n",
    "l.remove('is')\n",
    "print(l)\n",
    "l.remove('3') # 문자\n",
    "print(l)"
   ]
  },
  {
   "cell_type": "code",
   "execution_count": 65,
   "id": "557aef18",
   "metadata": {},
   "outputs": [
    {
     "name": "stdout",
     "output_type": "stream",
     "text": [
      "['Life', 'is', 'too', 'short', [1, 4], 2]\n",
      "['Life', 'is', 'too', 'short', [1, 4]]\n",
      "['Life', 'is', 'too', 'short']\n",
      "short\n",
      "['Life', 'is', 'too']\n",
      "is\n",
      "['Life', 'too']\n",
      "['too']\n"
     ]
    }
   ],
   "source": [
    "# pop : 맨 뒤에서 부터\n",
    "l = ['Life', 'is', 'too', 'short',[1 , 4] ,2 ,'3']\n",
    "l.pop()\n",
    "print(l)\n",
    "l.pop()\n",
    "print(l)\n",
    "l.pop()\n",
    "print(l)\n",
    "l1 = l.pop()\n",
    "print(l1)\n",
    "print(l)\n",
    "l1 = l.pop(1) # index를 사용해서 삭제\n",
    "print(l1)\n",
    "print(l)\n",
    "l.pop(0)\n",
    "print(l)\n",
    "# 삭제한 값을 대입 하고 싶을 때 pop()사용"
   ]
  },
  {
   "cell_type": "code",
   "execution_count": 76,
   "id": "d9c46dc9",
   "metadata": {},
   "outputs": [
    {
     "name": "stdout",
     "output_type": "stream",
     "text": [
      "6\n",
      "[1, 2, 4, 5, 6, 7]\n",
      "['가', '나', '라', '마']\n",
      "['마', '라', '나', '가']\n",
      "[3, 2, 4, 1]\n"
     ]
    }
   ],
   "source": [
    "l = [5,7,2,4,1,6]\n",
    "print(len(l))\n",
    "# 정렬\n",
    "# 오름차순으로 정렬\n",
    "l.sort()\n",
    "print(l)\n",
    "l = ['나', '가','마', '라'] # 사전순\n",
    "l.sort()\n",
    "print(l)\n",
    "# 내림차순으로 정렬\n",
    "l.sort(reverse=True);\n",
    "print(l)\n",
    "# 뒤에서 부터 값을 가지고 오기\n",
    "a = [1, 4, 2, 3]\n",
    "a.reverse()\n",
    "print(a)"
   ]
  },
  {
   "cell_type": "code",
   "execution_count": 96,
   "id": "ef5847da",
   "metadata": {},
   "outputs": [
    {
     "name": "stdout",
     "output_type": "stream",
     "text": [
      "2\n",
      "2\n",
      "1\n",
      "2\n",
      "3\n",
      "3\n",
      "1\n",
      "3\n",
      "-1\n"
     ]
    }
   ],
   "source": [
    "# 같은 값의 갯수\n",
    "str3 = 'hobby'\n",
    "# b가 몇개일까?\n",
    "print(str3.count('b'))\n",
    "\n",
    "a = [1,4,3,4,5]\n",
    "#    0 1 2 3 4\n",
    "print(a.count(4))\n",
    "# 요소의 위치 찾기\n",
    "print(str3.index('o'))\n",
    "print(a.index(3))  # 3이 있는 위치\n",
    "\n",
    "print(str3.index('b', str3.index('b') + 1))\n",
    "# str3.index('b', 2 + 1)\n",
    "print(a.index(4, a.index(4) + 1))\n",
    "# a.index(4, 1 + 1)\n",
    "print(a.index(4)) # 4가 있는 위치\n",
    "print(a.index(4, 2)) # index2번 부터 4가 있는 위치를 찾으시오.\n",
    "print(str3.find('t'))\n",
    "# print(str3.index('t'))\n",
    "# print(a.find(4,2)) : 리스트에는 find함수가 없다."
   ]
  },
  {
   "cell_type": "code",
   "execution_count": null,
   "id": "f854cc7c",
   "metadata": {},
   "outputs": [],
   "source": [
    "# 자료형\n",
    "# 리터널 상수 : 문자열 자료형 : \"\",'', 정수형 자료형, 실수형 자료형\n",
    "# 리스트 자료형 : []\n",
    "# 튜플 자료형 : ()\n",
    "t = (1234,)\n",
    "l = [1234]\n",
    "s = \"1234\"\n",
    "i = 1234"
   ]
  },
  {
   "cell_type": "code",
   "execution_count": 103,
   "id": "4b5e2b5d",
   "metadata": {},
   "outputs": [
    {
     "name": "stdout",
     "output_type": "stream",
     "text": [
      "[1]\n",
      "1\n",
      "(1,)\n",
      "(1, 2, 3)\n",
      "11\n",
      "20\n"
     ]
    }
   ],
   "source": [
    "l = [] # 빈리스트\n",
    "t = () # 빈 튜플\n",
    "l = [1] #  요소가 한개인 리스트\n",
    "t = (1,) # 요소가 한개인 튜플\n",
    "t1 = (1,2,3)\n",
    "a = 1\n",
    "print(l)\n",
    "print(a)\n",
    "print(t)\n",
    "print(t1)\n",
    "# ():최우선 연산자\n",
    "print( 3 + 2 * 4)\n",
    "print( (3 + 2) * 4)"
   ]
  },
  {
   "cell_type": "code",
   "execution_count": 112,
   "id": "35a23e2d",
   "metadata": {},
   "outputs": [
    {
     "name": "stdout",
     "output_type": "stream",
     "text": [
      "1\n",
      "1\n",
      "a\n",
      "['a', 'b', (1, 2, 3)]\n",
      "('a', 'b', (1, 2, 3))\n",
      "[1, 2, 3, 'a']\n",
      "(1, 2, 3, 'a')\n",
      "['b', (1, 2, 3), [1, 2, 3]]\n",
      "('b', (1, 2, 3), [1, 2, 3])\n"
     ]
    }
   ],
   "source": [
    "l = [1,2,3,4]\n",
    "t = (1,2,3,4)\n",
    "t1 = (1,2,3,'a','b')\n",
    "t1 = (1,2,3,'a','b', (1,2,3),[1,2,3])\n",
    "#     7 6 5  4   3      2       1   -     \n",
    "l = [1,2,3,'a','b',(1,2,3),[1,2,3]]\n",
    "print(l[0])\n",
    "print(t1[0])\n",
    "print(t1[-4])\n",
    "print(l[3:3 + 3])\n",
    "print(t1[3: 3 + 3])\n",
    "print(l[:4])\n",
    "print(t1[:4])\n",
    "print(l[4:])\n",
    "print(t1[4:])"
   ]
  },
  {
   "cell_type": "code",
   "execution_count": 147,
   "id": "ac5d1f01",
   "metadata": {},
   "outputs": [
    {
     "name": "stdout",
     "output_type": "stream",
     "text": [
      "b\n",
      "[1, 2, 3, 'a', 'c', (1, 2, 3), [1, 2, 3]]\n",
      "b\n",
      "[1, 2, 3, 'a', (1, 2, 3), [1, 2, 3]]\n",
      "3\n",
      "3\n",
      "(1, 2, 3, 'a', 'b', (1, 2, 3), [1, 2, 3])\n",
      "[1, 2, 3, 'a', 'b', (1, 2, 3), [1, 2, 3]]\n",
      "(1, 2, 3, 'a', (1, 2, 3), [1, 2, 3])\n",
      "a,b,c\n",
      "abc\n",
      "['a', 'b', 'c']\n",
      "a,b,c\n",
      "a b c\n",
      "('a', 'b', 'c')\n",
      "2\n",
      "2\n",
      "6\n",
      "6\n",
      "33\n"
     ]
    }
   ],
   "source": [
    "t1 = (1,2,3,'a','b', (1,2,3),[1,2,3])\n",
    "#     0 1 2  3   4      5       6\n",
    "#     7 6 5  4   3      2       1   -     \n",
    "l = [1,2,3,'a','b',(1,2,3),[1,2,3]]\n",
    "print(l[4])\n",
    "l[4] = 'c' # 리스트는 index를 이용해서  요소의 값을 수정\n",
    "print(l)\n",
    "print(t1[4])\n",
    "# t1[4] = 'c' # 튜플은 index를 이용해서  요소의 값을 수정하지 못함\n",
    "del l[4]\n",
    "print(l)\n",
    "# del t1[4]\n",
    "# 튜플은 indexing과 slicing만 가능\n",
    "print(l.index('a'))\n",
    "# find(x)\n",
    "print(t1.index('a'))\n",
    "# print(t1.find('a'))\n",
    "print(t1)\n",
    "l2 = list(t1)\n",
    "print(l2)\n",
    "t2 = tuple(l)\n",
    "print(t2)\n",
    "l = ['a','b','c']\n",
    "t = ('a','b','c')\n",
    "print(\",\".join(l))\n",
    "print(\"\".join(l))\n",
    "print(l)\n",
    "print(\",\".join(t))\n",
    "print(\" \".join(t))\n",
    "print(t)\n",
    "l = [1,2,4,3,2];\n",
    "print(l.count(2))\n",
    "t = [1,2,4,3,2];\n",
    "print(t.count(2))\n",
    "print( 3  + 3 )\n",
    "print(int(\"3\") + int(\"3\"))\n",
    "print( str(3)  + str(3) )"
   ]
  },
  {
   "cell_type": "code",
   "execution_count": 159,
   "id": "75ad3e22",
   "metadata": {},
   "outputs": [
    {
     "name": "stdout",
     "output_type": "stream",
     "text": [
      "1\n",
      "1\n",
      "==============================\n",
      "이숭무\n",
      "이장범\n",
      "이상범\n",
      "[1, 5, 3, 4]\n",
      "이장범\n",
      "{2: '이숭무', 0: '이상범', 1: '김찬중'}\n",
      "{2: '이숭무', 0: '이상범', 1: '김찬중', 4: '박준현'}\n",
      "{1: 'b'}\n"
     ]
    }
   ],
   "source": [
    "# 자료형 \n",
    "# 리터널 상수 : 문자열 자료형:\"\",'' , 정수형 자료형, 실수형 자료형\n",
    "# 리스트 자료형 : []\n",
    "# 튜플 자료형 : ()\n",
    "# 딕셔너리 자료형 : {}\n",
    "l = [] # 빈 리스트\n",
    "t = () # 빈 튜플\n",
    "d = {} # 빈 딕셔너리\n",
    "# 단어(key) : 내용(value)\n",
    "# 딕셔너리 : 키와 값이 하나로 쌍으로 이루어진 것\n",
    "# d = {k1:v1, k2:v2,...,kn:vn}\n",
    "dic = {'name':'이숭무', 'phone':'01071461970', 'birth':'1108'}\n",
    "l = [1,2,3]\n",
    "print(l[0])\n",
    "t = (1,2,3)\n",
    "print(t[0])\n",
    "print(\"=\"*30)\n",
    "print(dic['name']) # 요소를 가지고 올때 index를 사용하지 않고 \n",
    "                   # key를 사용한다.\n",
    "d2 = { 2 : '이숭무', 0 : '이상범' , 1 : '이장범'}\n",
    "#          0            1            2 : index는 사용하지 않는다.\n",
    "print(d2[1])\n",
    "print(d2[0])\n",
    "l = [1,2,3,4]\n",
    "#    0 1 2 3\n",
    "l[1] = 5\n",
    "print(l)\n",
    "print(d2[1])\n",
    "d2[1] = '김찬중'\n",
    "print(d2)\n",
    "# l[4] = 5 # list assignment index out of range\n",
    "d2[4] = '박준현'\n",
    "# 키가 존재하면 수정, 키가 없으면 추가\n",
    "print(d2)\n",
    "a = {1 :'a', 1: 'b'} # 키가 존재하기 때문에 수정\n",
    "print(a) # 키는 중복을 허용하지 않는다."
   ]
  },
  {
   "cell_type": "code",
   "execution_count": 164,
   "id": "d090bfdc",
   "metadata": {},
   "outputs": [
    {
     "name": "stdout",
     "output_type": "stream",
     "text": [
      "[1, 2, 4, 5, 6]\n",
      "[1, 2, 4, 5]\n",
      "[1, 2, 4]\n",
      "[1, 4]\n",
      "{'phone': '01071461970', 'birth': '1108'}\n",
      "{'phone': '01071461970', 'birth': '1108', 3: '이상범'}\n",
      "{'phone': '01071461970', 'birth': '1108'}\n"
     ]
    }
   ],
   "source": [
    "l = [1,2,3,4,5,6]\n",
    "del l[2]\n",
    "print(l)\n",
    "l.remove(6)\n",
    "print(l)\n",
    "l.pop()\n",
    "print(l)\n",
    "l.pop(1)\n",
    "print(l)\n",
    "dic = {'name':'이숭무', 'phone':'01071461970', 'birth':'1108'}\n",
    "del dic['name']\n",
    "print(dic)\n",
    "dic[3] = '이상범';\n",
    "print(dic)\n",
    "del dic[3]\n",
    "print(dic)"
   ]
  },
  {
   "cell_type": "code",
   "execution_count": 170,
   "id": "fd2cff32",
   "metadata": {},
   "outputs": [
    {
     "name": "stdout",
     "output_type": "stream",
     "text": [
      "{'name': '이숭무', 'phone': '01071461970', 'birth': '19991108'}\n",
      "19991108\n",
      "1999\n",
      "11\n",
      "08\n",
      "1108\n",
      "1108\n"
     ]
    }
   ],
   "source": [
    "dic = {'name':'이숭무', 'phone':'01071461970', 'birth':'1108'}\n",
    "dic['birth'] = '19991108'\n",
    "print(dic)\n",
    "## 년, 월 , 일을 따로 출력하세요.\n",
    "print(dic['birth']) # 19991108\n",
    "print(dic['birth'][:4])\n",
    "print(dic['birth'][4:4+2])\n",
    "print(dic['birth'][6:6+2])\n",
    "#  월일만 같이 출력\n",
    "print(dic['birth'][4:])\n",
    "print(dic['birth'][-4:])"
   ]
  },
  {
   "cell_type": "code",
   "execution_count": 175,
   "id": "fd5e8110",
   "metadata": {},
   "outputs": [
    {
     "name": "stdout",
     "output_type": "stream",
     "text": [
      "dict_keys(['name', 'phone', 'birth'])\n",
      "dict_values(['이숭무', '01071461970', '1108'])\n",
      "dict_items([('name', '이숭무'), ('phone', '01071461970'), ('birth', '1108')])\n",
      "{}\n",
      "[]\n"
     ]
    }
   ],
   "source": [
    "#### 딕셔너리 관련 함수\n",
    "dic = {'name':'이숭무', 'phone':'01071461970', 'birth':'1108'}\n",
    "### 딕셔너리에 있는 키만 가져오기\n",
    "print(dic.keys())\n",
    "### 딕셔너리에 있는 값만 가져오기\n",
    "print(dic.values())\n",
    "# 키와 값을 쌍으로 묶어서\n",
    "print(dic.items())\n",
    "# 딕셔너리 모두 삭제\n",
    "dic.clear()\n",
    "print(dic)\n",
    "# 리스트 비우기\n",
    "l = [1,2,3,4]\n",
    "l.clear()\n",
    "print(l)"
   ]
  },
  {
   "cell_type": "code",
   "execution_count": 190,
   "id": "20932e8a",
   "metadata": {},
   "outputs": [
    {
     "name": "stdout",
     "output_type": "stream",
     "text": [
      "이숭무\n",
      "{'name': '이숭무', 'phone': '01071461970', 'birth': '1108', 'money': '3'}\n",
      "{'name': '이숭무', 'phone': '01071461970', 'birth': '1108'}\n",
      "None\n",
      "이숭무\n",
      "0\n",
      "500\n",
      "1000\n",
      "1200\n",
      "100\n"
     ]
    }
   ],
   "source": [
    "dic = {'name':'이숭무', 'phone':'01071461970', 'birth':'1108'}\n",
    "dic\n",
    "print(dic['name'])\n",
    "dic['money'] = '3'\n",
    "print(dic)\n",
    "del dic['money']\n",
    "print(dic)\n",
    "# print(dic['money'])\n",
    "print(dic.get('money')) # None\n",
    "print(dic.get('name'))\n",
    "print(dic.get('money',0))\n",
    "\n",
    "dic1 = {'classic' : 500 ,  \"pop\" : 600 }\n",
    "dic2 = {'classic' : 500 ,  \"pop\" : 600 , \"money\" : 100 }\n",
    "print(dic1['classic'])\n",
    "print(dic1['classic'] + dic2['classic'])\n",
    "print(dic1['pop'] + dic2['pop'])\n",
    "# print(dic1['money'] + dic2['money'])\n",
    "print(dic1.get('money',0) + dic2.get('money',0))\n",
    "print(dic1.get('classic',0) + dic2.get('classic',0))\n",
    "print(dic1.get('pop',0) + dic2.get('pop',0))"
   ]
  },
  {
   "cell_type": "code",
   "execution_count": 209,
   "id": "deba729a",
   "metadata": {},
   "outputs": [
    {
     "name": "stdout",
     "output_type": "stream",
     "text": [
      "{1}\n",
      "{1: 1}\n",
      "{1, 2, 3, 4, 5}\n",
      "{1, 2, 3, 4}\n",
      "{1, 2, 3, 4}\n",
      "{'h', 'o', 'e', 'l'}\n",
      "[1, 2, 3, 4]\n",
      "(1, 2, 3, 4)\n",
      "{'h', 'o', 'e', 'l'}\n",
      "hoel\n",
      "1\n",
      "1\n",
      "{1, 2, 3, 4, 5}\n"
     ]
    }
   ],
   "source": [
    "# 자료형 \n",
    "# 리터널 자료형 : 문자열형 자료형 : \"\",'' , 정수형자료형, 실수형자료형\n",
    "# 리스트 자료형 : []\n",
    "# 튜플 자료형 : ()\n",
    "# 딕셔너리 자료형 : {} : 빈 딕셔너리\n",
    "#                  {키:값,...}\n",
    "# 집합 자료형 : {} : {1,2,3,4} : 요소가 1개이상 존재해야 한다.\n",
    "s = {1}\n",
    "print(s)\n",
    "dic = {1:1}\n",
    "print(dic)\n",
    "'''\n",
    "{1} : 집합\n",
    "{1: 1} : 딕셔너리\n",
    "'''\n",
    "s = {1,2,3,4,5}\n",
    "print(s)\n",
    "s1 = set([1,2,3,4])\n",
    "print(s1)\n",
    "s1= set((1,2,3,4))\n",
    "print(s1)\n",
    "s1 = set(\"hello\") # 중복 데이터는 허용하지 않는다.\n",
    "print(s1)\n",
    "\n",
    "l = list({1,2,3,4})\n",
    "print(l)\n",
    "t = tuple({1,2,3,4})\n",
    "print(t)\n",
    "s1 = {'h', 'o', 'e', 'l'}\n",
    "# s1 = str({'h', 'o', 'e', 'l'})\n",
    "print(s1)\n",
    "print(\"\".join(s1))\n",
    "print(l[0])\n",
    "print(t[0])\n",
    "print(s)\n",
    "# print(s[0]) : 집합 자료형은 index가 없다."
   ]
  },
  {
   "cell_type": "code",
   "execution_count": 215,
   "id": "e1b7f1e0",
   "metadata": {},
   "outputs": [
    {
     "name": "stdout",
     "output_type": "stream",
     "text": [
      "{4, 5, 6}\n",
      "{4, 5, 6}\n",
      "{1, 2, 3, 4, 5, 6, 7, 8, 9}\n",
      "{1, 2, 3, 4, 5, 6, 7, 8, 9}\n",
      "{1, 2, 3}\n",
      "{1, 2, 3}\n"
     ]
    }
   ],
   "source": [
    "#### 교집합, 합집합, 차집합\n",
    "s1 = set([1, 2, 3, 4, 5, 6])\n",
    "s2 = set([4, 5, 6, 7, 8, 9])\n",
    "### 교집합\n",
    "print(s1 & s2)\n",
    "print(s1.intersection(s2))\n",
    "### 합집합\n",
    "print(s1 | s2) # 집합:중복을 허용 안함.\n",
    "print(s1.union(s2))\n",
    "### 차집합 \n",
    "print(s1 - s2)\n",
    "print(s1.difference(s2)) # {8, 9, 7}"
   ]
  },
  {
   "cell_type": "code",
   "execution_count": 225,
   "id": "cea563ac",
   "metadata": {},
   "outputs": [
    {
     "name": "stdout",
     "output_type": "stream",
     "text": [
      "{1, 2, 3, 4, 5, 6}\n",
      "{1, 2, 3, 4, 5, 6, 7}\n",
      "{1, 2, 3, 4, 5, 6, 7, (8, 9, 10)}\n",
      "{1, 2, 3, 4, 5, 6, 7, 8, 9, 10, (8, 9, 10)}\n",
      "{1, 2, 3, 4, 5, 6, 7, 8, 9, 10}\n",
      "{1, 2, 3, 4, 5, 6, 8, 9, 10}\n"
     ]
    }
   ],
   "source": [
    "s1 = {1,2,3,4,5,6}\n",
    "## 요소추가\n",
    "print(s1)\n",
    "s1.add(7)\n",
    "print(s1)\n",
    "#s1.add(8,9,10)\n",
    "#print(s1)\n",
    "'''\n",
    "s1.add({8,9,10})\n",
    "print(s1)\n",
    "'''\n",
    "s1.add((8,9,10)) # 요소 하나만 추가\n",
    "print(s1)\n",
    "\n",
    "# 여러 요소를 한번에\n",
    "s1.update((8,9,10))\n",
    "print(s1)\n",
    "\n",
    "# 요소 삭제\n",
    "s1.remove((8,9,10))\n",
    "print(s1)\n",
    "s1.remove(7)\n",
    "print(s1)"
   ]
  },
  {
   "cell_type": "code",
   "execution_count": 234,
   "id": "5f780d1d",
   "metadata": {},
   "outputs": [
    {
     "name": "stdout",
     "output_type": "stream",
     "text": [
      "True\n",
      "True\n",
      "False\n",
      "False\n",
      "False\n",
      "True\n",
      "2\n",
      "False\n",
      "True\n",
      "False\n",
      "True\n",
      "False\n",
      "True\n",
      "True\n",
      "False\n",
      "False\n",
      "False\n",
      "평년\n"
     ]
    }
   ],
   "source": [
    "# 자료형 \n",
    "# 문자형 자료형  : \"\",'',\"\"\"\"\"\",'''''', \"True\" , \"10\"\n",
    "# 정수형 자료형 : 10\n",
    "# 실수형 자료형 : 10.6\n",
    "# 리스트 자료형 : []\n",
    "# 튜플 자료형 : ()\n",
    "# 딕셔너리 자료형 : {}\n",
    "# 집합 자료형 : set : {1} # 교집합, 합집합, 차집합\n",
    "# 부울 자료형 : True/False \n",
    "print(\"True\") # 문자열 자료형\n",
    "print(True) # 참\n",
    "print(\"False\") # False문자\n",
    "print(False) # 거짓\n",
    "\n",
    "# 논리연산 : 부울 타입 끼리의 연산\n",
    "print( False and True )\n",
    "print( True and True )\n",
    "# 비교(관계)연산 : 결과는 부울타입\n",
    "print( 1 + 1) # 2\n",
    "print( 1 > 2) # 부울 타입\n",
    "print( 1 < 2)\n",
    "print( 1 >= 2)\n",
    "print( 1 <= 2)\n",
    "print( 1 == 2) \n",
    "print( 1 != 2)\n",
    "i = 2;\n",
    "print( i == 2) # ==:같다\n",
    "# print( i = 2) 대입\n",
    "\n",
    "# 논리 연산 : 부울타입\n",
    "i = 3\n",
    "j = 4\n",
    "y = 5\n",
    "print(i > y and j < y)\n",
    "print(True and False)\n",
    "print(True or False)\n",
    "# 논리연산은 비교연산과 같이 하는 경우가 많다.\n",
    "### 2200년은 윤년? True \n",
    "### 4년마다 윤년 , 100년마다는 윤년이 아니다. 400년마다 윤년\n",
    "print(2200 % 4 == 0 and 2200 % 100 != 0 or 2200 % 400 == 0)\n",
    "\n",
    "if 2200 % 4 == 0 and 2200 % 100 != 0 or 2200 % 400 == 0:\n",
    "    print(\"윤년\")\n",
    "else :\n",
    "    print(\"평년\")"
   ]
  },
  {
   "cell_type": "code",
   "execution_count": 246,
   "id": "2e3c5964",
   "metadata": {},
   "outputs": [
    {
     "name": "stdout",
     "output_type": "stream",
     "text": [
      "True\n",
      "True\n",
      "True\n",
      "False\n",
      "False\n",
      "True\n",
      "False\n",
      "True\n",
      "==============================\n",
      "True\n",
      "True\n",
      "False\n",
      "==============================\n",
      "False\n",
      "True\n",
      "False\n"
     ]
    }
   ],
   "source": [
    "# bool()함수 : True/False\n",
    "print(bool(\"이숭무\"))\n",
    "if \"이숭무\":\n",
    "    print(True)\n",
    "print(bool(\" \")) # 공백문자\n",
    "print(bool(\"\")) # blank # False\n",
    "print(bool([])) # False\n",
    "print(bool([1,2]))\n",
    "print(bool(())) # False\n",
    "print(bool((1,2)))\n",
    "print(\"=\" * 30)\n",
    "print(bool(1))\n",
    "print(bool(-1))\n",
    "print(bool(0)) # False \n",
    "print(\"=\" * 30)\n",
    "print(bool(None)) # null : 존재하지만 알 수 없는 값 False\n",
    "print(True)\n",
    "print(False)\n",
    "# print(true):소문자인 경우 변수로 인식"
   ]
  },
  {
   "cell_type": "code",
   "execution_count": 249,
   "id": "db7a5034",
   "metadata": {},
   "outputs": [
    {
     "name": "stdout",
     "output_type": "stream",
     "text": [
      "python life\n",
      "python life\n",
      "python life\n",
      "python life\n",
      "python life is\n",
      "0 0 0\n"
     ]
    }
   ],
   "source": [
    "### 파이썬 변수 선언법\n",
    "a = 'python'\n",
    "b = 'life'\n",
    "c, d = 'python', 'life'\n",
    "print(c, d)\n",
    "\n",
    "c, d = ('python', 'life')\n",
    "print(c, d)\n",
    "\n",
    "(c, d) = 'python', 'life'\n",
    "print(c, d)\n",
    "\n",
    "(c, d) = ('python', 'life')\n",
    "print(c, d)\n",
    "\n",
    "c,d,e = 'python', 'life', 'is'\n",
    "print(c,d,e)\n",
    "\n",
    "a = b = c = 0\n",
    "print(a,b,c)"
   ]
  },
  {
   "cell_type": "code",
   "execution_count": 251,
   "id": "71596d29",
   "metadata": {},
   "outputs": [
    {
     "name": "stdout",
     "output_type": "stream",
     "text": [
      "20 10\n",
      "10 20\n"
     ]
    }
   ],
   "source": [
    "# 변수에 있는 값을 서로 교환하기\n",
    "a = 10\n",
    "b = 20\n",
    "############ 다른 언어인 경우\n",
    "temp = b\n",
    "b = a\n",
    "a = temp\n",
    "print(a, b)\n",
    "########### 파이썬인 경우 \n",
    "a , b = b , a # \n",
    "print(a, b)"
   ]
  },
  {
   "cell_type": "code",
   "execution_count": 259,
   "id": "c67f6d2a",
   "metadata": {},
   "outputs": [
    {
     "name": "stdout",
     "output_type": "stream",
     "text": [
      "==============================\n",
      "실행문\n"
     ]
    }
   ],
   "source": [
    "#### 3장 제어문\n",
    "### bool타입을 이용해서 원하는 결과를 얻어 오는 것을 말한다.\n",
    "\n",
    "# 조건문 : 여러가지 중에 하나를 선택할 때\n",
    "# 조건식 뒤에는 :이 와야한다.\n",
    "# 수행문은 들여쓰기를 해야한다.\n",
    "# 들여쓰기는 공백문자나 Tab키를 사용할 수 있으나 두가지 혼용할 수 없다.\n",
    "# 두개 중 하나만 선택해서 사용\n",
    "# 주로 Tab키를 사용한다.\n",
    "'''\n",
    "if 조건식: # 결과가 True\n",
    "    수행문1\n",
    "    수행문2\n",
    "\n",
    "실행문\n",
    "'''\n",
    "if False:\n",
    "    print(\"수행문1\") # 조건식의 결과 True\n",
    "    print(\"수행문2\") # 조건식의 결과 True\n",
    "    \n",
    "    print(\"실행문\") # 조건식의 결과 True\n",
    "print(\"=\" * 30)\n",
    "if False:\n",
    "    print(\"수행문1\") # 조건식의 결과 True\n",
    "    print(\"수행문2\") # 조건식의 결과 True\n",
    "    \n",
    "print(\"실행문\") # 독립적으로 실행"
   ]
  },
  {
   "cell_type": "code",
   "execution_count": 260,
   "id": "6434c044",
   "metadata": {},
   "outputs": [
    {
     "name": "stdout",
     "output_type": "stream",
     "text": [
      "if문 종료\n"
     ]
    }
   ],
   "source": [
    "# 단일 if문 : if문만 존재 : True일 때만 실행\n",
    "money = 3000\n",
    "if money >= 3500: #False\n",
    "    print(\"버스를 타고 간다.\")\n",
    "print(\"if문 종료\")"
   ]
  },
  {
   "cell_type": "code",
   "execution_count": 261,
   "id": "823ee74b",
   "metadata": {},
   "outputs": [
    {
     "name": "stdout",
     "output_type": "stream",
     "text": [
      "버스를 타고 간다.\n",
      "if문 종료\n"
     ]
    }
   ],
   "source": [
    "money = 3500\n",
    "if money >= 3500: #False\n",
    "    print(\"버스를 타고 간다.\")\n",
    "print(\"if문 종료\")"
   ]
  },
  {
   "cell_type": "code",
   "execution_count": 264,
   "id": "cc294062",
   "metadata": {},
   "outputs": [
    {
     "name": "stdout",
     "output_type": "stream",
     "text": [
      "걸어 간다.\n",
      "if문 종료\n"
     ]
    }
   ],
   "source": [
    "### flase 일때도 실행되자.\n",
    "# if ~ else\n",
    "money = 3000\n",
    "if money >= 3500:\n",
    "    print(\"차를 타고 간다.\")\n",
    "else :\n",
    "    print(\"걸어 간다.\")\n",
    "print(\"if문 종료\")"
   ]
  },
  {
   "cell_type": "code",
   "execution_count": 265,
   "id": "9b919bfe",
   "metadata": {},
   "outputs": [
    {
     "name": "stdout",
     "output_type": "stream",
     "text": [
      "차를 타고 간다.\n",
      "if문 종료\n"
     ]
    }
   ],
   "source": [
    "money = 3500\n",
    "if money >= 3500: # 두가지 하나를 선택...\n",
    "    print(\"차를 타고 간다.\")\n",
    "else :\n",
    "    print(\"걸어 간다.\")\n",
    "print(\"if문 종료\")"
   ]
  },
  {
   "cell_type": "code",
   "execution_count": 268,
   "id": "adddfa5b",
   "metadata": {},
   "outputs": [
    {
     "name": "stdout",
     "output_type": "stream",
     "text": [
      "False\n",
      "True\n"
     ]
    }
   ],
   "source": [
    "# and , or, not : 반대를 의미\n",
    "print(not True)\n",
    "print(not False)"
   ]
  },
  {
   "cell_type": "code",
   "execution_count": 269,
   "id": "e0dd6958",
   "metadata": {},
   "outputs": [
    {
     "name": "stdout",
     "output_type": "stream",
     "text": [
      "걸어가시오\n"
     ]
    }
   ],
   "source": [
    "money = 2000\n",
    "if not money >= 3500:\n",
    "    print(\"걸어가시오\")\n",
    "else:\n",
    "    print(\"차를 타고 가시오\")"
   ]
  },
  {
   "cell_type": "code",
   "execution_count": 281,
   "id": "ebc732fe",
   "metadata": {},
   "outputs": [
    {
     "name": "stdout",
     "output_type": "stream",
     "text": [
      "True\n",
      "False\n",
      "True\n",
      "True\n",
      "True\n",
      "True\n",
      "True\n",
      "False\n",
      "True\n",
      "False\n"
     ]
    }
   ],
   "source": [
    "# IN연산자 사용하기 : 포함되어 있는지 물어볼 때 사용\n",
    "l = [1,2,3,4,5]\n",
    "print( 2 in l)\n",
    "print( 7 in l)\n",
    "print( 2 in [1,2,3,4,5])\n",
    "print( 7 not in [1,2,3,4,5])\n",
    "\n",
    "print( 't' in 'python')\n",
    "print( 'z' not in 'python')\n",
    "\n",
    "print( 'a' in  {'a' : 1, 'b': 2})\n",
    "print( 'a' not in  {'a' : 1, 'b': 2})\n",
    "\n",
    "print( 3 in {1,2,3,4,5})\n",
    "print( 3 not in {1,2,3,4,5})"
   ]
  },
  {
   "cell_type": "code",
   "execution_count": 283,
   "id": "02a41509",
   "metadata": {},
   "outputs": [
    {
     "name": "stdout",
     "output_type": "stream",
     "text": [
      "True\n",
      "리스트에 4가 포함되어 있다\n",
      "==============================\n",
      "리스트에 7가 포함되어 있지 않다.\n",
      "==============================\n",
      "리스트에 7가 포함되어 있지 않다.\n"
     ]
    }
   ],
   "source": [
    "l = [1,2,3,4,5,6]\n",
    "print( 4 in l)\n",
    "if 4 in l:\n",
    "    print(\"리스트에 4가 포함되어 있다\")\n",
    "else:\n",
    "    print(\"리스트에 4가 포함되어 있지 않다.\")\n",
    "    \n",
    "print(\"=\" * 30)\n",
    "if 7 not in l:\n",
    "    print(\"리스트에 7가 포함되어 있지 않다.\")\n",
    "else:\n",
    "    print(\"리스트에 7가 포함되어 있다\")\n",
    "    \n",
    "print(\"=\" * 30)\n",
    "if 7 in l:\n",
    "    print(\"리스트에 7가 포함되어 있다\")\n",
    "else:\n",
    "    print(\"리스트에 7가 포함되어 있지 않다.\")\n",
    "    "
   ]
  },
  {
   "cell_type": "code",
   "execution_count": 286,
   "id": "e0cae39d",
   "metadata": {},
   "outputs": [
    {
     "name": "stdout",
     "output_type": "stream",
     "text": [
      "True\n",
      "주머니에 돈이 있습니다.\n",
      "False\n",
      "불합격\n"
     ]
    }
   ],
   "source": [
    "pocket =['paper', 'card', 'money']\n",
    "print('money' in pocket)\n",
    "if 'money' in pocket:\n",
    "    print(\"주머니에 돈이 있습니다.\")\n",
    "else:\n",
    "    print(\"주머니에 돈이 없습니다.\")\n",
    "    \n",
    "### 영어가 40이상이고, 국어가 40이상이고 , 수학이 40이상일 때 , \n",
    "### 평균이 60이상이면 합격 그렇지 않으면 불합격\n",
    "mat = 55\n",
    "eng = 70\n",
    "kor = 40\n",
    "result = (mat + eng+kor) / 3 >= 60 and mat>=40 and \\\n",
    "         eng>=40 and kor >= 40;\n",
    "print(result) # True / False\n",
    "if (mat + eng+kor) / 3 >= 60 and mat>=40 and \\\n",
    "         eng>=40 and kor >= 40 :\n",
    "    print(\"합격\")\n",
    "else:\n",
    "    print(\"불합격\")"
   ]
  },
  {
   "cell_type": "code",
   "execution_count": 287,
   "id": "88222d0f",
   "metadata": {},
   "outputs": [
    {
     "name": "stdout",
     "output_type": "stream",
     "text": [
      "C\n"
     ]
    }
   ],
   "source": [
    "# score가 90이상이면 A, 80이상이면 B, 70이상이면 C, 60이상이면 D, F\n",
    "# 조건이 여러개인 경우\n",
    "'''\n",
    "if 조건식:\n",
    "    수행식\n",
    "elif 조건식:\n",
    "    수행식\n",
    "elif 조건식:\n",
    "    수행식\n",
    "...\n",
    "else :\n",
    "    수행식\n",
    "'''\n",
    "# else문 뒤에는 조건식 올 수 없다.\n",
    "# 조건식은 if문 뒤에 와야 한다.\n",
    "# else if : elif \n",
    "# 다중 if문\n",
    "score = 75\n",
    "if score >= 90:\n",
    "    print('A')\n",
    "elif score >= 80:\n",
    "    print('B')\n",
    "elif score >= 70:\n",
    "    print('C')\n",
    "elif score >= 60:\n",
    "    print('D')\n",
    "else:\n",
    "    print('F')"
   ]
  },
  {
   "cell_type": "code",
   "execution_count": 290,
   "id": "9a335ab2",
   "metadata": {},
   "outputs": [
    {
     "name": "stdout",
     "output_type": "stream",
     "text": [
      "C+\n"
     ]
    }
   ],
   "source": [
    "### 95이상이면 A+ 이하면 A\n",
    "### 85이상이면 B+ 이하면 B\n",
    "### 75이상이면 C+ 이하면 C\n",
    "### 65이상이면 D+ 이하면 D\n",
    "### F\n",
    "### 이중 if\n",
    "score = 75\n",
    "if score >= 90:\n",
    "    if score>=95:\n",
    "        print('A+')\n",
    "    else:\n",
    "        print('A')\n",
    "elif score >= 80:\n",
    "    if score >= 85:\n",
    "        print('B+')\n",
    "    else:\n",
    "        print('B')\n",
    "elif score >= 70:\n",
    "    if score >= 75:\n",
    "        print('C+')\n",
    "    else:\n",
    "        print('C')\n",
    "elif score >= 60:\n",
    "    if score >= 65:\n",
    "        print('D+')\n",
    "    else:\n",
    "        print('D')\n",
    "else:\n",
    "    print('F')"
   ]
  },
  {
   "cell_type": "code",
   "execution_count": 296,
   "id": "fc53bdab",
   "metadata": {},
   "outputs": [
    {
     "name": "stdout",
     "output_type": "stream",
     "text": [
      "success\n",
      "============================================================\n",
      "success\n"
     ]
    }
   ],
   "source": [
    "'''\n",
    "score가 60이면 message 변수에 success를 아니면 \n",
    "message 에 failure를 저장한 후 출력\n",
    "'''\n",
    "score = 75\n",
    "if score >= 60:\n",
    "    message = 'success'\n",
    "else:\n",
    "    message = 'failure'\n",
    "print(message)\n",
    "print(\"==\" * 30)\n",
    "message = 'success' if score >= 60 else 'failure'\n",
    "print(message)"
   ]
  },
  {
   "cell_type": "code",
   "execution_count": 300,
   "id": "5008eae5",
   "metadata": {},
   "outputs": [
    {
     "name": "stdout",
     "output_type": "stream",
     "text": [
      "30\n"
     ]
    }
   ],
   "source": [
    "a = 10; b = 20; opt='add'\n",
    "if opt == 'add':\n",
    "    result = a + b\n",
    "elif opt == 'sub':\n",
    "    result = a - b\n",
    "elif opt == 'mul':\n",
    "    result = a * b\n",
    "else :\n",
    "    result = a / b\n",
    "print(result)"
   ]
  },
  {
   "cell_type": "code",
   "execution_count": 301,
   "id": "d437306e",
   "metadata": {},
   "outputs": [
    {
     "name": "stdout",
     "output_type": "stream",
     "text": [
      "30\n"
     ]
    }
   ],
   "source": [
    "a = 10; b = 20; opt='add'\n",
    "if opt == 'add':\n",
    "    result = a + b\n",
    "else:\n",
    "    if opt == 'sub':\n",
    "        result = a-b\n",
    "    else:\n",
    "        if opt == 'mul':\n",
    "            result = a * b\n",
    "        else:\n",
    "            result = a / b\n",
    "print(result)"
   ]
  },
  {
   "cell_type": "code",
   "execution_count": 302,
   "id": "b2e979ea",
   "metadata": {},
   "outputs": [
    {
     "name": "stdout",
     "output_type": "stream",
     "text": [
      "30\n"
     ]
    }
   ],
   "source": [
    "result = a + b if opt == 'add' else (\n",
    "         a-b   if opt == 'sub' else (\n",
    "         a * b if opt == 'mul' else a / b\n",
    "         ))\n",
    "print(result)"
   ]
  },
  {
   "cell_type": "code",
   "execution_count": null,
   "id": "01dac744",
   "metadata": {},
   "outputs": [],
   "source": []
  },
  {
   "cell_type": "code",
   "execution_count": null,
   "id": "f77865b6",
   "metadata": {},
   "outputs": [],
   "source": []
  },
  {
   "cell_type": "code",
   "execution_count": null,
   "id": "ef4eabb2",
   "metadata": {},
   "outputs": [],
   "source": []
  }
 ],
 "metadata": {
  "kernelspec": {
   "display_name": "Python 3",
   "language": "python",
   "name": "python3"
  },
  "language_info": {
   "codemirror_mode": {
    "name": "ipython",
    "version": 3
   },
   "file_extension": ".py",
   "mimetype": "text/x-python",
   "name": "python",
   "nbconvert_exporter": "python",
   "pygments_lexer": "ipython3",
   "version": "3.8.6"
  }
 },
 "nbformat": 4,
 "nbformat_minor": 5
}
