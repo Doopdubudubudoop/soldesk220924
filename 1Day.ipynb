{
 "cells": [
  {
   "cell_type": "code",
   "execution_count": 14,
   "id": "2964aa29",
   "metadata": {},
   "outputs": [
    {
     "name": "stderr",
     "output_type": "stream",
     "text": [
      "C:\\Users\\soldesk\\AppData\\Local\\Temp\\ipykernel_5236\\627556072.py:1: DeprecationWarning: Importing display from IPython.core.display is deprecated since IPython 7.14, please import from IPython display\n",
      "  from IPython.core.display import display, HTML\n"
     ]
    },
    {
     "data": {
      "text/html": [
       "<style>\n",
       "div.container { width:100% !important; }\n",
       "div.CodeMirror {font-family: Consolas; font-size: 25pt;}\n",
       "div.output { font-size: 20pt; font-weight: bold;}\n",
       "div.input { font-family: Consolas; font-size: 25pt;}\n",
       "div.prompt { min-width: 100px;}\n",
       "</style>\n"
      ],
      "text/plain": [
       "<IPython.core.display.HTML object>"
      ]
     },
     "metadata": {},
     "output_type": "display_data"
    }
   ],
   "source": [
    "from IPython.core.display import display, HTML\n",
    "display(HTML(\n",
    "\"\"\"<style>\n",
    "div.container { width:100% !important; }\n",
    "div.CodeMirror {font-family: Consolas; font-size: 25pt;}\n",
    "div.output { font-size: 20pt; font-weight: bold;}\n",
    "div.input { font-family: Consolas; font-size: 25pt;}\n",
    "div.prompt { min-width: 100px;}\n",
    "</style>\n",
    "\"\"\"))"
   ]
  },
  {
   "cell_type": "code",
   "execution_count": 10,
   "id": "b6b130ff",
   "metadata": {},
   "outputs": [
    {
     "name": "stdout",
     "output_type": "stream",
     "text": [
      "실행\n"
     ]
    }
   ],
   "source": [
    "print(\"실행\")"
   ]
  },
  {
   "cell_type": "code",
   "execution_count": 13,
   "id": "9bfc9563",
   "metadata": {},
   "outputs": [
    {
     "name": "stdout",
     "output_type": "stream",
     "text": [
      "30\n",
      "100\n"
     ]
    }
   ],
   "source": [
    "print( 3 * 10) # 파이썬의 명령은 한 행 이어야 한다.\n",
    "'''\n",
    "print( 3 \n",
    "      * 10)\n",
    "'''\n",
    "a = 10 \n",
    "print(a * 10)"
   ]
  },
  {
   "cell_type": "code",
   "execution_count": 15,
   "id": "090984b4",
   "metadata": {},
   "outputs": [
    {
     "name": "stdout",
     "output_type": "stream",
     "text": [
      "100\n"
     ]
    }
   ],
   "source": [
    "# 한줄에 여러개의 명령을 사용\n",
    "a = 10; print(a * 10);\n",
    "# ;은 수행의 끝을 의미한다."
   ]
  },
  {
   "cell_type": "code",
   "execution_count": 27,
   "id": "0cd5614f",
   "metadata": {},
   "outputs": [
    {
     "name": "stdout",
     "output_type": "stream",
     "text": [
      "10\n",
      "10.5\n",
      "10\n",
      "12\n",
      "1\n",
      "1\n",
      "3\n",
      "3\n",
      "1000\n",
      "1000\n"
     ]
    }
   ],
   "source": [
    "# 파이썬 프로그래밍의 기초, 자료형\n",
    "# 리터널 상수 : 자연어 (한국어, 영어, 프랑스어, 중국어,...)\n",
    "#               문자, 문자열\n",
    "#              자연수 (정수, 실수, 지수) : 숫자\n",
    "#                정수 : 10, 2, 100\n",
    "#                실수 : 10.5, 2.555\n",
    "# >>> : 파이썬 프롬프트\n",
    "print(10) # 정수 리터널을 출력\n",
    "print(10.5)# 실수 리터널을 출력\n",
    "a = 10 # 변수 a에 10인 정수 리터널 저장 \n",
    "# 정수형 변수\n",
    "# 변수 = 리터널 상수\n",
    "print(a)\n",
    "# 숫자 리터널이 이용하는 연산자 : +, - , * , /\n",
    "a = 10\n",
    "b = 2\n",
    "print(a + b)\n",
    "# 나머지 % : 10 / 3의 나머지\n",
    "print( 10 % 3)\n",
    "a = 10\n",
    "b = 3\n",
    "print( a % b )\n",
    "# 몫 연산자 // \n",
    "print(10 // 3)\n",
    "print(a // b)\n",
    "\n",
    "# 제곱 승\n",
    "print(10 ** 3)\n",
    "print(a ** b) # 10^3\n",
    "## 숫자 리터널을 사용하는 연산자 : +, -, *, / , ** , %, //"
   ]
  },
  {
   "cell_type": "code",
   "execution_count": 41,
   "id": "e014c1e8",
   "metadata": {},
   "outputs": [
    {
     "name": "stdout",
     "output_type": "stream",
     "text": [
      "c\n",
      "c\n",
      "100\n",
      "가\n",
      "20\n",
      "1010\n",
      "a\n",
      "a\n",
      "hellopython\n"
     ]
    }
   ],
   "source": [
    "# 문자열 리터널 : 문자 상수 : 한국어, 일본어, 영어, ...\n",
    "#                              '가',    \"a\", ... : c(변수)\n",
    "#                               '10'(문자 리터널), 10(정수 리터널)\n",
    "#              : \"\", ''\n",
    "print('c')\n",
    "print(\"c\")\n",
    "c = 10\n",
    "가 = 100\n",
    "print(가)\n",
    "print(\"가\")\n",
    "print( 10 + 10 )\n",
    "print('10' + \"10\")\n",
    "#print(10 + \"10\")\n",
    "# a : 변수\n",
    "# 10 : 정수\n",
    "# 'a' : 문자\n",
    "# '10' : 문자\n",
    "print('a'); print(\"a\")\n",
    "# 문자 리터널에서 +연산자는 붙이기 연산자\n",
    "print(\"hello\" + \"python\")"
   ]
  },
  {
   "cell_type": "code",
   "execution_count": 42,
   "id": "95bfeb04",
   "metadata": {},
   "outputs": [
    {
     "name": "stdout",
     "output_type": "stream",
     "text": [
      "hello\n",
      "hello\n",
      "hello\n",
      "hello\n"
     ]
    }
   ],
   "source": [
    "# 문자 리터널 : \"\", '',\"\"\"\"\"\", ''''''\n",
    "print(\"hello\")\n",
    "print('hello')\n",
    "print('''hello''')\n",
    "print(\"\"\"hello\"\"\")"
   ]
  },
  {
   "cell_type": "code",
   "execution_count": 45,
   "id": "8f65aa70",
   "metadata": {},
   "outputs": [
    {
     "name": "stdout",
     "output_type": "stream",
     "text": [
      "Life is too short,\n",
      "      You need python\n",
      "Life is too short,\n",
      "      You need python\n"
     ]
    }
   ],
   "source": [
    "print('''Life is too short,\n",
    "      You need python''')\n",
    "print(\"\"\"Life is too short,\n",
    "      You need python\"\"\")\n",
    "# 문자열 : 두개이상 문자로 이루어진\n",
    "# 문자 : 한글를 문자\n",
    "# 파이썬에서는 문자와 문자열을 구분하지 않는다.\n",
    "str1 = 'a'\n",
    "str2 = 'abcd'\n",
    "str3 = \"a\"\n",
    "str4 = \"abcd\"\n",
    "print(str1, str2, str3, str4)\n",
    "\n",
    "print(\"Life's too short, You need python\")\n",
    "print('Life is too short, \"You need python\"')\n",
    "print(\"Life is too short, \\\"You need python\\\"\")\n",
    "print('Life\\'s too short, You need python')"
   ]
  },
  {
   "cell_type": "code",
   "execution_count": 50,
   "id": "a053d6da",
   "metadata": {},
   "outputs": [
    {
     "name": "stdout",
     "output_type": "stream",
     "text": [
      "Python is fun\n",
      "Pythonis fun\n",
      "Python is fun\n",
      "**************************************************\n",
      "제목\n",
      "**************************************************\n"
     ]
    }
   ],
   "source": [
    "head = \"Python\"\n",
    "tail = \"is fun\"\n",
    "# 문자열에서 +연산자\n",
    "print(\"Python is fun\")\n",
    "print(head + tail)\n",
    "print(head+ \" \" + tail)\n",
    "# * 연산자 : 반복 연산자\n",
    "print(\"*\" * 50) \n",
    "print(\"제목\")\n",
    "print(\"*\" * 50) "
   ]
  },
  {
   "cell_type": "code",
   "execution_count": 53,
   "id": "c6cf4bf4",
   "metadata": {},
   "outputs": [
    {
     "name": "stdout",
     "output_type": "stream",
     "text": [
      "이숭무\n",
      "1010\n"
     ]
    }
   ],
   "source": [
    "str1 = \"이숭무\"\n",
    "print(str1)\n",
    "'''\n",
    "str : 변수\n",
    "str():함수\n",
    "파이썬에서는 함수면과 변수명이 같아서는 안된다.\n",
    "'''\n",
    "print( \"10\" + str(10))"
   ]
  },
  {
   "cell_type": "code",
   "execution_count": 2,
   "id": "28297f2a",
   "metadata": {},
   "outputs": [
    {
     "name": "stdout",
     "output_type": "stream",
     "text": [
      "Life's too short, You need python\n",
      "33\n",
      "17\n",
      "Life is too short\n",
      "i\n",
      "i\n",
      "L\n",
      "L\n",
      "t\n",
      "t\n",
      "t\n",
      "n\n"
     ]
    }
   ],
   "source": [
    "#문자열 길이 구하기\n",
    "str1 = 'Life\\'s too short, You need python'\n",
    "print(str1)\n",
    "print(len(str1)) # 갯수를 가지고 오는 함수\n",
    "str2 = 'Life is too short'\n",
    "#       12345678901234567\n",
    "#                1\n",
    "#       01234567890123456    : index\n",
    "#                 1\n",
    "#       76543210987654321-\n",
    "#              1\n",
    "print(len(str2))\n",
    "print(str2)\n",
    "# indexing\n",
    "print(str2[5]); print(str2[-12])\n",
    "print(str2[0]); print(str2[-17])\n",
    "print(str2[-1]); print(str2[16]); print(str2[len(str2) -1])\n",
    "print(str1[len(str1) -1])"
   ]
  },
  {
   "cell_type": "code",
   "execution_count": 69,
   "id": "d1e2eba7",
   "metadata": {},
   "outputs": [
    {
     "name": "stdout",
     "output_type": "stream",
     "text": [
      "Life\n",
      "Life is too short\n",
      "Life\n",
      "Life\n",
      "e is\n",
      "e is\n",
      "too\n",
      "시작 index를 입력하시오.2\n",
      "문자 갯수를 입력하시오4\n",
      "fe i\n"
     ]
    }
   ],
   "source": [
    "# index를 이용해서 'Life'를 출력하시오.\n",
    "print(str2[0]+str2[1]+str2[2]+str2[3])\n",
    "# Life is too short\n",
    "# 01234567890123456\n",
    "#           1\n",
    "# slicing\n",
    "print(str2)\n",
    "print(str2[0: 0 + 4]); print(str2[0:4]); \n",
    "# 0부터 4전까지 가지고 오시오.\n",
    "print(str2[3 : 7]); print(str2[3 : 3 + 4]);\n",
    "# 3부터 7전까지 가지고 오시오.\n",
    "# print(str2[시작index : 시작index + 글자수])\n",
    "\n",
    "print(str2[8: 8 + 3])\n",
    "\n",
    "start = int(input(\"시작 index를 입력하시오.\"))\n",
    "num = int(input(\"문자 갯수를 입력하시오\"))\n",
    "print(str2[start : start + num])"
   ]
  },
  {
   "cell_type": "code",
   "execution_count": 81,
   "id": "65584a35",
   "metadata": {},
   "outputs": [
    {
     "name": "stdout",
     "output_type": "stream",
     "text": [
      "Life\n",
      "Life\n",
      "Life\n",
      "too short\n",
      "too shor\n",
      "too short\n",
      "too short\n"
     ]
    }
   ],
   "source": [
    "print(str2[0:0+4])\n",
    "print(str2[0:4])\n",
    "print(str2[:4])\n",
    "print(str2[8:17])\n",
    "#print(str2[8:-1]) # 8번부터 -2까지...\n",
    "print(str2[8:])\n",
    "print(str2[8:len(str2)])"
   ]
  },
  {
   "cell_type": "code",
   "execution_count": 84,
   "id": "3c0746cf",
   "metadata": {},
   "outputs": [
    {
     "name": "stdout",
     "output_type": "stream",
     "text": [
      " is too sho\n",
      "is too s\n",
      "is t\n",
      "is t\n"
     ]
    }
   ],
   "source": [
    "str2 = 'Life is too short'\n",
    "#       01234567890123456    : index\n",
    "#                 1\n",
    "#       76543210987654321-\n",
    "#              1\n",
    "print(str2[-13:-2])\n",
    "print(str2[-12:13])\n",
    "print(str2[-12: -12 + 4])\n",
    "print(str2[-12: -8])"
   ]
  },
  {
   "cell_type": "code",
   "execution_count": 93,
   "id": "919d55dc",
   "metadata": {},
   "outputs": [
    {
     "name": "stdout",
     "output_type": "stream",
     "text": [
      "20010331\n",
      "Rainy\n",
      "3\n",
      "5\n",
      "2\n"
     ]
    }
   ],
   "source": [
    "# 날짜와 이름을 분리하여 출력\n",
    "a = \"20010331Rainy\"\n",
    "#    0123456789012\n",
    "#              1\n",
    "print(a[:8])\n",
    "print(a[8:])\n",
    "a1 = 3\n",
    "print(a1)\n",
    "a1 = 5\n",
    "print(a1)\n",
    "print(a[0])\n",
    "# a[0] = '3' 뮨자열에 있는 문자는 인덱스를 이요해서 값을 변경하지 못함."
   ]
  },
  {
   "cell_type": "code",
   "execution_count": 3,
   "id": "c69aa493",
   "metadata": {},
   "outputs": [
    {
     "name": "stdout",
     "output_type": "stream",
     "text": [
      "이숭무의 계좌번호는 1111이고 잔액은 100입니다.\n",
      "이숭무의 계좌번호는 1111이고 잔액은 100입니다.\n",
      "이숭무의 계좌번호는 1111이고 잔액은 100입니다.\n",
      "Life's too short, You need python\n",
      "Life is too short\n",
      "1000번재 입니다.\n",
      "1100\n"
     ]
    }
   ],
   "source": [
    "# 문자열 포매팅\n",
    "account = '1111'\n",
    "name = '이숭무'\n",
    "money = 100\n",
    "### 이숭무의 계좌번호는 1111이고 잔액은 100입니다.\n",
    "print(name + \"의 계좌번호는 \" + account + \"이고 잔액은 \" + str(money) +\"입니다.\")\n",
    "print(\"%s의 계좌번호는 %s이고 잔액은 %d입니다.\"%(name,account,money))\n",
    "print(\"%s의 계좌번호는 %s이고 잔액은 %d입니다.\"%('이숭무','1111',100))\n",
    "# 포맷문자 : %s:문자열, %d :정수 ,%f:float(실수)\n",
    "print(str1); print(str2)\n",
    "# str() : 문자가 아닌 리터널을 문자로 변경시켜주는 함수\n",
    "i = 1000\n",
    "print(str(i)+ \"번재 입니다.\")\n",
    "# i에 있는 1000인 정수를 '1000'인 문자로 변경\n",
    "print(int(\"1000\") + 100)"
   ]
  },
  {
   "cell_type": "code",
   "execution_count": 13,
   "id": "964f8d8f",
   "metadata": {},
   "outputs": [
    {
     "name": "stdout",
     "output_type": "stream",
     "text": [
      "이숭무의 나이는 25살이고 키는 175.300000입니다\n",
      "이숭무의 나이는 25살이고 키는 175.300000입니다\n",
      "이숭무의 나이는 25살이고 키는 175.3입니다\n",
      "이숭무의 나이는 25살이고 키는 175.3입니다\n",
      "이숭무의 나이는 25살이고 키는 175.3입니다\n",
      "이숭무의 나이는 25살이고 키는 175.3입니다\n",
      "이숭무의 나이는 25살이고 키는                175.3입니다\n",
      "이숭무의 나이는 25살이고 키는 175.3               입니다\n"
     ]
    }
   ],
   "source": [
    "age = 25\n",
    "height = 175.3\n",
    "\"이숭무의 나이는 25살이고 키는 175.3입니다\"\n",
    "print(\"%s의 나이는 %d살이고 키는 %f입니다\" % (name, age, height))\n",
    "str3 = \"%s의 나이는 %d살이고 키는 %f입니다\" % (name, age, height)\n",
    "print(str3)\n",
    "str3 = \"%s의 나이는 %d살이고 키는 %5.1f입니다\" % (name, age, height)\n",
    "print(str3)\n",
    "str3 = \"%s의 나이는 %d살이고 키는 %4.1f입니다\" % (name, age, height)\n",
    "print(str3)\n",
    "str3 = \"%s의 나이는 %d살이고 키는 %0.1f입니다\" % (name, age, height)\n",
    "print(str3)\n",
    "str3 = \"%s의 나이는 %d살이고 키는 %.1f입니다\" % (name, age, height)\n",
    "print(str3)\n",
    "str3 = \"%s의 나이는 %d살이고 키는 %20.1f입니다\" % (name, age, height)\n",
    "print(str3)\n",
    "str3 = \"%s의 나이는 %d살이고 키는 %-20.1f입니다\" % (name, age, height)\n",
    "print(str3)\n",
    "#+오른쪽 정렬, - 왼쪽 정렬"
   ]
  },
  {
   "cell_type": "code",
   "execution_count": 21,
   "id": "b142a7e6",
   "metadata": {},
   "outputs": [
    {
     "name": "stdout",
     "output_type": "stream",
     "text": [
      "이숭무님의 나이는 25살이고요 키는 175.3입니다\n",
      "이숭무님의 나이는 25살이고요 키는 175.3입니다\n",
      "이숭무님의 나이는 25살이고요 키는 175.3입니다\n",
      "이숭무입니다\n",
      "이숭무입니다.\n",
      "계좌번호는 1111 입니다.\n",
      "계좌번호는 1111 입니다.\n",
      "이숭무님의 나이는 25살이고요 키는 35입니다\n",
      "계좌번호는 11111 입니다.\n"
     ]
    }
   ],
   "source": [
    "# 문자 : 'a' ,\"a\",\"\"\"a\"\"\",'''a''' , '10', '10.5'\n",
    "# 정수 : 10, 455\n",
    "# 실수 : 10.5\n",
    "# 변수 : a , 가 , a1, 가1\n",
    "# 함수 : a(), 가(), a1(), 가1(), str(), int(), print()\n",
    "# 단 같은 이름의 함수와 변수가 존재 할순 없다.\n",
    "\n",
    "# format() 함수를 사용한 포매팅\n",
    "account = '1111'\n",
    "name = '이숭무'\n",
    "money = 100\n",
    "age = 25\n",
    "height = 175.3\n",
    "\n",
    "\n",
    "# 이숭무님의 나이는 25살이고요 키는 175.3입니다\n",
    "print(\"%s님의 나이는 %d살이고요 키는 %.1f입니다\" % (name,age,height))\n",
    "\n",
    "print(\"{0}님의 나이는 {1}살이고요 키는 {2}입니다\".format(name,age,height))\n",
    "#                                                       0   1    2\n",
    "print(\"{1}님의 나이는 {0}살이고요 키는 {2}입니다\".format(age, name, height))\n",
    "\n",
    "print(\"%s입니다\" % name)\n",
    "print(\"{0}입니다.\".format(name))\n",
    "\n",
    "print(\"계좌번호는 %s 입니다.\" % account)\n",
    "print(\"계좌번호는 {0} 입니다.\".format(account))\n",
    "\n",
    "print(\"{1}님의 나이는 {0}살이고요 키는 {2}입니다\".format(age, name, 35))\n",
    "print(\"계좌번호는 %s 입니다.\" % \"11111\")"
   ]
  },
  {
   "cell_type": "code",
   "execution_count": 35,
   "id": "4383e505",
   "metadata": {},
   "outputs": [
    {
     "name": "stdout",
     "output_type": "stream",
     "text": [
      "이숭무님의 나이는 25살이고요 키는 175.3입니다\n",
      "이숭무님의 나이는 35살이고요 키는 175.3입니다\n",
      "이숭무님의 나이는 35살이고요 키는 178.9입니다\n",
      "이숭무님의 나이는 35살이고요 키는 175.3입니다\n"
     ]
    }
   ],
   "source": [
    "### 인덱스와 이름을 혼용해서 넣기\n",
    "'이숭무님의 나이는 35살이고요 키는 175.3입니다'\n",
    "# format() 함수\n",
    "print('{0}님의 나이는 {2}살이고요 키는 {1}입니다'.format(name, height , age))\n",
    "print('{0}님의 나이는 {bbb}살이고요 키는 {1}입니다'.format(name, height , bbb=35))\n",
    "#print('{0}님의 나이는 {bbb}살이고요 키는 {2}입니다'.format(name, bbb=35, height ))\n",
    "print('{0}님의 나이는 {bbb}살이고요 키는 {h}입니다'.format(name , h=178.9 , bbb=35))\n",
    "print('{0}님의 나이는 {bbb}살이고요 키는 {h}입니다'.format(name , h=height, bbb=35))"
   ]
  },
  {
   "cell_type": "code",
   "execution_count": 39,
   "id": "581b26b0",
   "metadata": {},
   "outputs": [
    {
     "name": "stdout",
     "output_type": "stream",
     "text": [
      "이숭무님의 나이는 25살이고요 키는 175.3입니다\n",
      "이숭무님의 나이는 25살이고요 키는 175.3입니다\n",
      "이숭무님의 나이는 25살이고요 키는 175.3입니다\n",
      "이숭무님의 나이는 25살이고요 키는 175.3입니다\n"
     ]
    }
   ],
   "source": [
    "### f 문자열 포매팅\n",
    "'이숭무님의 나이는 35살이고요 키는 175.3입니다'\n",
    "#포맷문자\n",
    "print('%s님의 나이는 %d살이고요 키는 %.1f입니다'%(name, age, height))\n",
    "#format()\n",
    "print('{0}님의 나이는 {1}살이고요 키는 {2}입니다'.format(name, age, height))\n",
    "print('{0}님의 나이는 {1}살이고요 키는 {h}입니다'.format(name, age, h = height))\n",
    "#f 문자열\n",
    "print(f'{name}님의 나이는 {age}살이고요 키는 {height}입니다')"
   ]
  },
  {
   "cell_type": "code",
   "execution_count": 55,
   "id": "847cae82",
   "metadata": {},
   "outputs": [
    {
     "name": "stdout",
     "output_type": "stream",
     "text": [
      "Life is too short, You need python\n",
      "34\n",
      "5\n",
      "5\n",
      "8\n",
      "30\n",
      "16\n",
      "8\n",
      "30\n",
      "16\n",
      "-1\n",
      "8\n",
      "too\n",
      "too\n"
     ]
    }
   ],
   "source": [
    "# 문자열 가공 : 문자열 내장 함수 : str()\n",
    "str1='Life is too short, You need python'\n",
    "print(str1)\n",
    "print(len(str1)) # 크기 함수\n",
    "# o의 갯수\n",
    "cnt = str1.count('o')\n",
    "print(cnt)\n",
    "cnt = 'Life is too short, You need python'.count('o')\n",
    "#      012345678\n",
    "print(cnt)\n",
    "# 원하는 문자의 index\n",
    "idx = str1.find('t')\n",
    "print(idx)\n",
    "idx = str1.rfind('t')\n",
    "print(idx)\n",
    "idx = str1.find('t',9)\n",
    "print(idx)\n",
    "\n",
    "idx = str1.index('t')\n",
    "print(idx)\n",
    "idx = str1.rindex('t')\n",
    "print(idx)\n",
    "idx = str1.index('t',9)\n",
    "print(idx)\n",
    "\n",
    "idx = str1.find('m') # -1: 찾는 문자가 없다\n",
    "print(idx)\n",
    "'''\n",
    "idx = str1.index('m') # 없는 문자인 경우 오류 발생\n",
    "print(idx)\n",
    "'''\n",
    "idx = str1.find('too') # 첫번재 index를 가지고 옴\n",
    "print(idx)\n",
    "print(str1[idx : idx + 3])\n",
    "print(str1[str1.find('too') : str1.find('too') + 3])"
   ]
  },
  {
   "cell_type": "code",
   "execution_count": 59,
   "id": "dc2fd5d2",
   "metadata": {},
   "outputs": [
    {
     "name": "stdout",
     "output_type": "stream",
     "text": [
      "Life is too short, You need python\n",
      "LIFE IS TOO SHORT, YOU NEED PYTHON\n",
      "life is too short, you need python\n",
      "Life is too short, You need python\n"
     ]
    }
   ],
   "source": [
    "# 모두 대문자로 가져오기\n",
    "print(str1)\n",
    "strUpper = str1.upper()\n",
    "print(strUpper)\n",
    "# 모두 소문자로 가져오기\n",
    "strLower = str1.lower()\n",
    "print(strLower)\n",
    "print(str1)"
   ]
  },
  {
   "cell_type": "code",
   "execution_count": 66,
   "id": "498270ad",
   "metadata": {},
   "outputs": [
    {
     "name": "stdout",
     "output_type": "stream",
     "text": [
      "abcd\n",
      " abcd \n",
      "ab cd\n",
      "             ab cd\n",
      "ab cd                  \n",
      "이숭무\n"
     ]
    }
   ],
   "source": [
    "# 앞뒤 문자 삭제\n",
    "c = ' abcd '\n",
    "result = c.strip();\n",
    "print(result)\n",
    "print(c)\n",
    "d = '             ab cd                  '\n",
    "result = d.strip()\n",
    "print(result)\n",
    "result = d.rstrip()\n",
    "print(result)\n",
    "result = d.lstrip()\n",
    "print(result)\n",
    "f = 'ab이숭무ab'\n",
    "result = f.strip('ab')\n",
    "print(result)"
   ]
  },
  {
   "cell_type": "code",
   "execution_count": 74,
   "id": "7e5b5fee",
   "metadata": {},
   "outputs": [
    {
     "name": "stdout",
     "output_type": "stream",
     "text": [
      "Your leg is too short\n",
      "Life is too short\n",
      "Lifeistooshort\n",
      "['Life', 'is', 'too', 'short']\n",
      "['Life', 'is', 'too', 'short']\n"
     ]
    }
   ],
   "source": [
    "b = \"Life is too short\"\n",
    "# \"Life\"를 \"Your leg\"로 변경\n",
    "result = b.replace('Life', \"Your leg\")\n",
    "print(result)\n",
    "print(b)\n",
    "result = b.replace(' ', \"\")\n",
    "print(result)\n",
    "# 문자열 쪼개기\n",
    "result = b.split()   #####  split을 하면 리스트로 받아온다.\n",
    "print(result)\n",
    "\n",
    "b = \"Life:is:too:short\"\n",
    "result = b.split(\":\")\n",
    "print(result)"
   ]
  },
  {
   "cell_type": "code",
   "execution_count": null,
   "id": "7ff16626",
   "metadata": {},
   "outputs": [],
   "source": [
    "### 문자열 함수\n",
    "split()\n",
    "replace()\n",
    "strip()\n",
    "rstrip()\n",
    "lstrip()\n",
    "upper()\n",
    "lower()\n",
    "index()\n",
    "find()\n",
    "rindex()\n",
    "rfind()\n",
    "len()\n",
    "count()"
   ]
  },
  {
   "cell_type": "code",
   "execution_count": 83,
   "id": "5c02d8cd",
   "metadata": {},
   "outputs": [
    {
     "name": "stdout",
     "output_type": "stream",
     "text": [
      "1\n",
      "1\n",
      "10.5\n",
      "[1, 2, 1, 'a']\n",
      "[[1, 2], [3, 4]]\n",
      "[]\n",
      "['Life', 'is', 'too', 'short']\n"
     ]
    }
   ],
   "source": [
    "# 정수 리터널  : 10, 1\n",
    "# 실수 리터널 : 10.5, 1.5555\n",
    "# 문자열 리터널 : \"\",'',\"\"\"\"\"\",'''''', a:변수, a():함수 , '10','10.5'\n",
    "# 리스크 자료형 : [] ,[1,2,3],['a','b'],[1, 'a'] : 여러개의 데이터 , 여러유형\n",
    "\n",
    "print(1)\n",
    "print('1')\n",
    "print(10.5)\n",
    "print([1,2] + [1,'a'])\n",
    "print([[1,2],[3,4]]) # 리스트를가지 리스트\n",
    "l = [] # 빈리스트\n",
    "print(l)\n",
    "a = \"Life:is:too:short\"\n",
    "l = a.split(\":\")\n",
    "print(l)\n",
    "l = [\"이숭무\",\"이상범\",\"이장범\"]\n",
    "l = ['Life', 'is', 'too', 'short']"
   ]
  },
  {
   "cell_type": "code",
   "execution_count": 91,
   "id": "3b7e7273",
   "metadata": {},
   "outputs": [
    {
     "name": "stdout",
     "output_type": "stream",
     "text": [
      "f\n",
      "e i\n",
      "Lo\n",
      "1\n",
      "4\n",
      "[2, 3, 4, 5]\n",
      "6\n",
      "Life\n",
      "too\n",
      "Lifetoo\n"
     ]
    }
   ],
   "source": [
    "a = \"Life is too short\"\n",
    "#    01234567890123456    index\n",
    "#              1\n",
    "print(a[2])\n",
    "print(a[3:6])\n",
    "print(a[0] + a[10])\n",
    "l = [1,2,3,4,5,6] # 리스트안에는 것을 요소라고 한다.\n",
    "#    0 1 2 3 4 5  : index : 사용 방법은 문자열과 같다\n",
    "print(l[0])\n",
    "print(l[3])\n",
    "print(l[1: 1 + 4]) \n",
    "print(l[3]+ l[1]) # 요소가 정수이면 indexing을 한 결과 정수\n",
    "\n",
    "l = ['Life', 'is', 'too', 'short']\n",
    "#      0      1      2       3\n",
    "print(l[0])\n",
    "print(l[2])\n",
    "print(l[0] + l[2])"
   ]
  },
  {
   "cell_type": "code",
   "execution_count": 96,
   "id": "f57f0fcc",
   "metadata": {},
   "outputs": [
    {
     "name": "stdout",
     "output_type": "stream",
     "text": [
      "['a', 'b', 'c']\n",
      "['a', 'b', 'c']\n",
      "b\n",
      "b\n",
      "b\n"
     ]
    }
   ],
   "source": [
    "a = [1, 2, 3, ['a', 'b', 'c']]\n",
    "#    0  1  2        3\n",
    "#               0    1    2\n",
    "#    4  3  2         1      (-)\n",
    "#               3    2    1 (-)       \n",
    "print(a[3])\n",
    "print(['a', 'b', 'c'])\n",
    "print(['a', 'b', 'c'][1])\n",
    "print(a[3][1])\n",
    "print(a[-1][-2])\n",
    "print(a[-1][1])"
   ]
  },
  {
   "cell_type": "code",
   "execution_count": 97,
   "id": "4f6808d9",
   "metadata": {},
   "outputs": [
    {
     "name": "stdout",
     "output_type": "stream",
     "text": [
      "Life\n"
     ]
    }
   ],
   "source": [
    "a = [1, 2, ['a', 'b', ['Life', 'is']]]\n",
    "#    0  1            2\n",
    "#           0     1         2\n",
    "#                       0       1\n",
    "# 'Life'를 출력하세요.\n",
    "print(a[2][2][0])"
   ]
  },
  {
   "cell_type": "code",
   "execution_count": 102,
   "id": "e74042bf",
   "metadata": {},
   "outputs": [
    {
     "name": "stdout",
     "output_type": "stream",
     "text": [
      "too\n",
      "1\n",
      "[1]\n",
      "[2, 3, 4, 5]\n"
     ]
    }
   ],
   "source": [
    "### 리스트의 슬라이싱\n",
    "a ='Life is too short'\n",
    "print(a[8:8+3])\n",
    "\n",
    "l = [1,2,3,4,5]\n",
    "print(l[0]) \n",
    "print(l[0:0+1]) # 슬라이싱을 하면 리스트로 가져온다.\n",
    "print(l[1:1+4])"
   ]
  },
  {
   "cell_type": "code",
   "execution_count": null,
   "id": "b18e2a16",
   "metadata": {},
   "outputs": [],
   "source": [
    "이숭무\n",
    "010-7146-1970\n",
    "highland0@nate.com"
   ]
  },
  {
   "cell_type": "code",
   "execution_count": null,
   "id": "32c1c73c",
   "metadata": {},
   "outputs": [],
   "source": [
    "https://github.com/SoongMoo/soldesk220924"
   ]
  },
  {
   "cell_type": "code",
   "execution_count": null,
   "id": "a3465cb9",
   "metadata": {},
   "outputs": [],
   "source": []
  },
  {
   "cell_type": "code",
   "execution_count": null,
   "id": "cdf2e428",
   "metadata": {},
   "outputs": [],
   "source": []
  },
  {
   "cell_type": "code",
   "execution_count": null,
   "id": "f064b9a7",
   "metadata": {},
   "outputs": [],
   "source": []
  },
  {
   "cell_type": "code",
   "execution_count": null,
   "id": "cb7d5f85",
   "metadata": {},
   "outputs": [],
   "source": []
  }
 ],
 "metadata": {
  "kernelspec": {
   "display_name": "Python 3",
   "language": "python",
   "name": "python3"
  },
  "language_info": {
   "codemirror_mode": {
    "name": "ipython",
    "version": 3
   },
   "file_extension": ".py",
   "mimetype": "text/x-python",
   "name": "python",
   "nbconvert_exporter": "python",
   "pygments_lexer": "ipython3",
   "version": "3.8.6"
  }
 },
 "nbformat": 4,
 "nbformat_minor": 5
}
